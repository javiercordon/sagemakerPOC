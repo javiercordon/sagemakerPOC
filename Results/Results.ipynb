{
 "cells": [
  {
   "cell_type": "code",
   "execution_count": 1,
   "id": "falling-calgary",
   "metadata": {},
   "outputs": [],
   "source": [
    "import pandas as pd"
   ]
  },
  {
   "cell_type": "code",
   "execution_count": 4,
   "id": "japanese-hartford",
   "metadata": {},
   "outputs": [],
   "source": [
    "results = pd.read_csv('results.txt', sep='|')"
   ]
  },
  {
   "cell_type": "code",
   "execution_count": 6,
   "id": "mathematical-tunisia",
   "metadata": {},
   "outputs": [
    {
     "data": {
      "text/html": [
       "<div>\n",
       "<style scoped>\n",
       "    .dataframe tbody tr th:only-of-type {\n",
       "        vertical-align: middle;\n",
       "    }\n",
       "\n",
       "    .dataframe tbody tr th {\n",
       "        vertical-align: top;\n",
       "    }\n",
       "\n",
       "    .dataframe thead th {\n",
       "        text-align: right;\n",
       "    }\n",
       "</style>\n",
       "<table border=\"1\" class=\"dataframe\">\n",
       "  <thead>\n",
       "    <tr style=\"text-align: right;\">\n",
       "      <th></th>\n",
       "      <th>Sagemaker</th>\n",
       "      <th>TPR</th>\n",
       "      <th>TNR</th>\n",
       "      <th>Recall</th>\n",
       "      <th>Precision</th>\n",
       "      <th>Accuracy</th>\n",
       "    </tr>\n",
       "  </thead>\n",
       "  <tbody>\n",
       "    <tr>\n",
       "      <th>0</th>\n",
       "      <td>Linear</td>\n",
       "      <td>15.9%</td>\n",
       "      <td>95.7%</td>\n",
       "      <td>15.9%</td>\n",
       "      <td>56.7%</td>\n",
       "      <td>74.6%</td>\n",
       "    </tr>\n",
       "    <tr>\n",
       "      <th>1</th>\n",
       "      <td>Linear (target recall  0.60)</td>\n",
       "      <td>58.9%</td>\n",
       "      <td>71.0%</td>\n",
       "      <td>58.9%</td>\n",
       "      <td>42.2%</td>\n",
       "      <td>67.8%</td>\n",
       "    </tr>\n",
       "    <tr>\n",
       "      <th>2</th>\n",
       "      <td>Linear (target recall - balanced 0.58)</td>\n",
       "      <td>56.6%</td>\n",
       "      <td>73.0%</td>\n",
       "      <td>56.6%</td>\n",
       "      <td>42.9%</td>\n",
       "      <td>68.7%</td>\n",
       "    </tr>\n",
       "    <tr>\n",
       "      <th>3</th>\n",
       "      <td>Linear (target precision - balanced 0.60)</td>\n",
       "      <td>8.4%</td>\n",
       "      <td>97.9%</td>\n",
       "      <td>8.4%</td>\n",
       "      <td>58.7%</td>\n",
       "      <td>74.3%</td>\n",
       "    </tr>\n",
       "    <tr>\n",
       "      <th>4</th>\n",
       "      <td>XGB (HP Tunning 50 models)</td>\n",
       "      <td>33.5%</td>\n",
       "      <td>94.6%</td>\n",
       "      <td>33.5%</td>\n",
       "      <td>67.8%</td>\n",
       "      <td>79.2%</td>\n",
       "    </tr>\n",
       "    <tr>\n",
       "      <th>5</th>\n",
       "      <td>AutoML (AutoPilot)</td>\n",
       "      <td>42.0%</td>\n",
       "      <td>89.5%</td>\n",
       "      <td>42.0%</td>\n",
       "      <td>57.7%</td>\n",
       "      <td>77.4%</td>\n",
       "    </tr>\n",
       "  </tbody>\n",
       "</table>\n",
       "</div>"
      ],
      "text/plain": [
       "                                   Sagemaker    TPR    TNR Recall Precision  \\\n",
       "0                                     Linear  15.9%  95.7%  15.9%     56.7%   \n",
       "1               Linear (target recall  0.60)  58.9%  71.0%  58.9%     42.2%   \n",
       "2     Linear (target recall - balanced 0.58)  56.6%  73.0%  56.6%     42.9%   \n",
       "3  Linear (target precision - balanced 0.60)   8.4%  97.9%   8.4%     58.7%   \n",
       "4                 XGB (HP Tunning 50 models)  33.5%  94.6%  33.5%     67.8%   \n",
       "5                         AutoML (AutoPilot)  42.0%  89.5%  42.0%     57.7%   \n",
       "\n",
       "  Accuracy  \n",
       "0    74.6%  \n",
       "1    67.8%  \n",
       "2    68.7%  \n",
       "3    74.3%  \n",
       "4    79.2%  \n",
       "5    77.4%  "
      ]
     },
     "execution_count": 6,
     "metadata": {},
     "output_type": "execute_result"
    }
   ],
   "source": [
    "results"
   ]
  },
  {
   "cell_type": "code",
   "execution_count": 7,
   "id": "insured-module",
   "metadata": {},
   "outputs": [
    {
     "name": "stdout",
     "output_type": "stream",
     "text": [
      "|    | Sagemaker                                 | TPR   | TNR   | Recall   | Precision   | Accuracy   |\n",
      "|---:|:------------------------------------------|:------|:------|:---------|:------------|:-----------|\n",
      "|  0 | Linear                                    | 15.9% | 95.7% | 15.9%    | 56.7%       | 74.6%      |\n",
      "|  1 | Linear (target recall  0.60)              | 58.9% | 71.0% | 58.9%    | 42.2%       | 67.8%      |\n",
      "|  2 | Linear (target recall - balanced 0.58)    | 56.6% | 73.0% | 56.6%    | 42.9%       | 68.7%      |\n",
      "|  3 | Linear (target precision - balanced 0.60) | 8.4%  | 97.9% | 8.4%     | 58.7%       | 74.3%      |\n",
      "|  4 | XGB (HP Tunning 50 models)                | 33.5% | 94.6% | 33.5%    | 67.8%       | 79.2%      |\n",
      "|  5 | AutoML (AutoPilot)                        | 42.0% | 89.5% | 42.0%    | 57.7%       | 77.4%      |\n"
     ]
    }
   ],
   "source": [
    "print(results.to_markdown())"
   ]
  }
 ],
 "metadata": {
  "kernelspec": {
   "display_name": "conda_mxnet_p36",
   "language": "python",
   "name": "conda_mxnet_p36"
  },
  "language_info": {
   "codemirror_mode": {
    "name": "ipython",
    "version": 3
   },
   "file_extension": ".py",
   "mimetype": "text/x-python",
   "name": "python",
   "nbconvert_exporter": "python",
   "pygments_lexer": "ipython3",
   "version": "3.6.13"
  }
 },
 "nbformat": 4,
 "nbformat_minor": 5
}
