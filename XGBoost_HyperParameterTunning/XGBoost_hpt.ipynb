{
 "cells": [
  {
   "cell_type": "markdown",
   "metadata": {},
   "source": [
    "# Bowpi CCH - First Credit - Sagemaker POC - XGboost \n",
    "\n",
    "## Using XGBoost in SageMaker (Hyperparameter Tuning)\n",
    "\n",
    "\n",
    "---\n",
    "\n",
    "The documentation for the high level API can be found on the [ReadTheDocs page](http://sagemaker.readthedocs.io/en/latest/)\n",
    "\n",
    "## General Outline\n",
    "\n",
    "Typically, when using a notebook instance with SageMaker, you will proceed through the following steps. Of course, not every step will need to be done with each project. Also, there is quite a lot of room for variation in many of the steps.\n",
    "\n",
    "1. Download or otherwise retrieve the data.\n",
    "2. Process / Prepare the data.\n",
    "3. Upload the processed data to S3.\n",
    "4. Train a chosen model.\n",
    "5. Test the trained model (typically using a batch transform job).\n",
    "6. Deploy the trained model.\n",
    "7. Use the deployed model.\n",
    "\n",
    "In this notebook we will only be covering steps 1 through 5 as we are only interested in creating a tuned model and testing its performance."
   ]
  },
  {
   "cell_type": "code",
   "execution_count": null,
   "metadata": {},
   "outputs": [],
   "source": [
    "# Make sure that we use SageMaker 1.x\n",
    "!pip install sagemaker==1.72.0"
   ]
  },
  {
   "cell_type": "markdown",
   "metadata": {},
   "source": [
    "## Step 0: Setting up the notebook\n",
    "\n",
    "We begin by setting up all of the necessary bits required to run our notebook. To start that means loading all of the Python modules we will need."
   ]
  },
  {
   "cell_type": "code",
   "execution_count": 1,
   "metadata": {},
   "outputs": [],
   "source": [
    "%matplotlib inline\n",
    "\n",
    "import os\n",
    "\n",
    "import numpy as np\n",
    "import pandas as pd\n",
    "\n",
    "import matplotlib.pyplot as plt\n",
    "\n",
    "from sklearn.datasets import load_boston\n",
    "import sklearn.model_selection"
   ]
  },
  {
   "cell_type": "markdown",
   "metadata": {},
   "source": [
    "In addition to the modules above, we need to import the various bits of SageMaker that we will be using. "
   ]
  },
  {
   "cell_type": "code",
   "execution_count": 2,
   "metadata": {},
   "outputs": [],
   "source": [
    "import sagemaker\n",
    "from sagemaker import get_execution_role\n",
    "from sagemaker.amazon.amazon_estimator import get_image_uri\n",
    "from sagemaker.predictor import csv_serializer\n",
    "\n",
    "# This is an object that represents the SageMaker session that we are currently operating in. This\n",
    "# object contains some useful information that we will need to access later such as our region.\n",
    "session = sagemaker.Session()\n",
    "\n",
    "# This is an object that represents the IAM role that we are currently assigned. When we construct\n",
    "# and launch the training job later we will need to tell it what IAM role it should have. Since our\n",
    "# use case is relatively simple we will simply assign the training job the role we currently have.\n",
    "role = get_execution_role()"
   ]
  },
  {
   "cell_type": "markdown",
   "metadata": {},
   "source": [
    "## Step 1: Load the data\n",
    "\n",
    "It will depend on the week of development, to get the proper one."
   ]
  },
  {
   "cell_type": "code",
   "execution_count": 3,
   "metadata": {},
   "outputs": [],
   "source": [
    "#!aws s3 cp s3://XX/datascience/dataset/20200415/directSalecClean/xtest.csv xtest.csv\n",
    "#!aws s3 cp s3://XX/datascience/dataset/20200415/directSalecClean/xtrain.csv xtrain.csv"
   ]
  },
  {
   "cell_type": "code",
   "execution_count": 7,
   "metadata": {},
   "outputs": [],
   "source": [
    "directSaleTrain = pd.read_csv('xtrain.csv')\n",
    "directSaleTest = pd.read_csv('xtest.csv')\n",
    "directSale = pd.concat([directSaleTrain, directSaleTest], axis=0).reset_index()"
   ]
  },
  {
   "cell_type": "code",
   "execution_count": 8,
   "metadata": {},
   "outputs": [
    {
     "name": "stdout",
     "output_type": "stream",
     "text": [
      "(17719, 191)\n"
     ]
    },
    {
     "data": {
      "text/html": [
       "<div>\n",
       "<style scoped>\n",
       "    .dataframe tbody tr th:only-of-type {\n",
       "        vertical-align: middle;\n",
       "    }\n",
       "\n",
       "    .dataframe tbody tr th {\n",
       "        vertical-align: top;\n",
       "    }\n",
       "\n",
       "    .dataframe thead th {\n",
       "        text-align: right;\n",
       "    }\n",
       "</style>\n",
       "<table border=\"1\" class=\"dataframe\">\n",
       "  <thead>\n",
       "    <tr style=\"text-align: right;\">\n",
       "      <th></th>\n",
       "      <th>index</th>\n",
       "      <th>maxmora</th>\n",
       "      <th>cl_unq_act_act_fnacimiento</th>\n",
       "      <th>cl_unq_act_act_finicionegocio</th>\n",
       "      <th>cl_unq_act_act_fechasolicitud</th>\n",
       "      <th>numero_cuotas</th>\n",
       "      <th>cl_unq_act_act_personasdependientes</th>\n",
       "      <th>cl_unq_act_act_plazosolicitado</th>\n",
       "      <th>cl_unq_act_act_diasolicitado</th>\n",
       "      <th>cl_unq_act_act_tiempoentrecompras</th>\n",
       "      <th>...</th>\n",
       "      <th>cl_unq_act_act_estresfamiliacostos_na</th>\n",
       "      <th>cl_unq_act_act_negocioaproxegresos_na</th>\n",
       "      <th>cl_unq_act_act_fechasolicitud_month</th>\n",
       "      <th>cl_unq_act_act_totalgastosfam_ratio</th>\n",
       "      <th>cl_unq_act_act_negociototalingresos_ratio</th>\n",
       "      <th>cl_unq_act_act_totalbienes_ratio</th>\n",
       "      <th>cl_unq_act_act_totalgastosfamvar_log</th>\n",
       "      <th>cl_unq_act_act_negociototalingresosvar_log</th>\n",
       "      <th>cl_unq_act_act_totalbienesvar_log</th>\n",
       "      <th>cl_unq_act_act_montosolicitadovar_log</th>\n",
       "    </tr>\n",
       "  </thead>\n",
       "  <tbody>\n",
       "    <tr>\n",
       "      <th>0</th>\n",
       "      <td>0</td>\n",
       "      <td>0</td>\n",
       "      <td>23</td>\n",
       "      <td>17/03/2011</td>\n",
       "      <td>06/03/2020</td>\n",
       "      <td>0.052632</td>\n",
       "      <td>0.06</td>\n",
       "      <td>0.37931</td>\n",
       "      <td>0.366667</td>\n",
       "      <td>0.000429</td>\n",
       "      <td>...</td>\n",
       "      <td>0.0</td>\n",
       "      <td>0.0</td>\n",
       "      <td>0.454545</td>\n",
       "      <td>0.029331</td>\n",
       "      <td>0.073073</td>\n",
       "      <td>0.005926</td>\n",
       "      <td>0.738372</td>\n",
       "      <td>0.600858</td>\n",
       "      <td>0.584507</td>\n",
       "      <td>0.545732</td>\n",
       "    </tr>\n",
       "    <tr>\n",
       "      <th>1</th>\n",
       "      <td>1</td>\n",
       "      <td>1</td>\n",
       "      <td>43</td>\n",
       "      <td>13/10/2016</td>\n",
       "      <td>18/08/2019</td>\n",
       "      <td>0.052632</td>\n",
       "      <td>0.08</td>\n",
       "      <td>0.37931</td>\n",
       "      <td>0.800000</td>\n",
       "      <td>0.000229</td>\n",
       "      <td>...</td>\n",
       "      <td>0.0</td>\n",
       "      <td>0.0</td>\n",
       "      <td>0.636364</td>\n",
       "      <td>0.013749</td>\n",
       "      <td>0.015682</td>\n",
       "      <td>0.000206</td>\n",
       "      <td>0.653488</td>\n",
       "      <td>0.387697</td>\n",
       "      <td>0.289613</td>\n",
       "      <td>0.545732</td>\n",
       "    </tr>\n",
       "    <tr>\n",
       "      <th>2</th>\n",
       "      <td>2</td>\n",
       "      <td>1</td>\n",
       "      <td>30</td>\n",
       "      <td>04/06/2015</td>\n",
       "      <td>15/08/2019</td>\n",
       "      <td>0.000000</td>\n",
       "      <td>0.06</td>\n",
       "      <td>0.37931</td>\n",
       "      <td>0.466667</td>\n",
       "      <td>0.000429</td>\n",
       "      <td>...</td>\n",
       "      <td>0.0</td>\n",
       "      <td>0.0</td>\n",
       "      <td>0.636364</td>\n",
       "      <td>0.029331</td>\n",
       "      <td>0.052386</td>\n",
       "      <td>0.005811</td>\n",
       "      <td>0.693023</td>\n",
       "      <td>0.496424</td>\n",
       "      <td>0.546655</td>\n",
       "      <td>0.423781</td>\n",
       "    </tr>\n",
       "    <tr>\n",
       "      <th>3</th>\n",
       "      <td>3</td>\n",
       "      <td>0</td>\n",
       "      <td>25</td>\n",
       "      <td>01/02/2014</td>\n",
       "      <td>11/03/2020</td>\n",
       "      <td>0.052632</td>\n",
       "      <td>0.08</td>\n",
       "      <td>0.37931</td>\n",
       "      <td>0.800000</td>\n",
       "      <td>0.000229</td>\n",
       "      <td>...</td>\n",
       "      <td>0.0</td>\n",
       "      <td>0.0</td>\n",
       "      <td>0.909091</td>\n",
       "      <td>0.013749</td>\n",
       "      <td>0.030364</td>\n",
       "      <td>0.002386</td>\n",
       "      <td>0.715116</td>\n",
       "      <td>0.560801</td>\n",
       "      <td>0.554577</td>\n",
       "      <td>0.722561</td>\n",
       "    </tr>\n",
       "    <tr>\n",
       "      <th>4</th>\n",
       "      <td>4</td>\n",
       "      <td>0</td>\n",
       "      <td>22</td>\n",
       "      <td>02/09/2012</td>\n",
       "      <td>06/07/2020</td>\n",
       "      <td>0.263158</td>\n",
       "      <td>0.10</td>\n",
       "      <td>0.37931</td>\n",
       "      <td>0.033333</td>\n",
       "      <td>0.000200</td>\n",
       "      <td>...</td>\n",
       "      <td>0.0</td>\n",
       "      <td>0.0</td>\n",
       "      <td>0.454545</td>\n",
       "      <td>0.035747</td>\n",
       "      <td>0.049049</td>\n",
       "      <td>0.004720</td>\n",
       "      <td>0.713953</td>\n",
       "      <td>0.486409</td>\n",
       "      <td>0.528169</td>\n",
       "      <td>0.423781</td>\n",
       "    </tr>\n",
       "  </tbody>\n",
       "</table>\n",
       "<p>5 rows × 191 columns</p>\n",
       "</div>"
      ],
      "text/plain": [
       "   index  maxmora  cl_unq_act_act_fnacimiento cl_unq_act_act_finicionegocio  \\\n",
       "0      0        0                          23                    17/03/2011   \n",
       "1      1        1                          43                    13/10/2016   \n",
       "2      2        1                          30                    04/06/2015   \n",
       "3      3        0                          25                    01/02/2014   \n",
       "4      4        0                          22                    02/09/2012   \n",
       "\n",
       "  cl_unq_act_act_fechasolicitud  numero_cuotas  \\\n",
       "0                    06/03/2020       0.052632   \n",
       "1                    18/08/2019       0.052632   \n",
       "2                    15/08/2019       0.000000   \n",
       "3                    11/03/2020       0.052632   \n",
       "4                    06/07/2020       0.263158   \n",
       "\n",
       "   cl_unq_act_act_personasdependientes  cl_unq_act_act_plazosolicitado  \\\n",
       "0                                 0.06                         0.37931   \n",
       "1                                 0.08                         0.37931   \n",
       "2                                 0.06                         0.37931   \n",
       "3                                 0.08                         0.37931   \n",
       "4                                 0.10                         0.37931   \n",
       "\n",
       "   cl_unq_act_act_diasolicitado  cl_unq_act_act_tiempoentrecompras  ...  \\\n",
       "0                      0.366667                           0.000429  ...   \n",
       "1                      0.800000                           0.000229  ...   \n",
       "2                      0.466667                           0.000429  ...   \n",
       "3                      0.800000                           0.000229  ...   \n",
       "4                      0.033333                           0.000200  ...   \n",
       "\n",
       "   cl_unq_act_act_estresfamiliacostos_na  \\\n",
       "0                                    0.0   \n",
       "1                                    0.0   \n",
       "2                                    0.0   \n",
       "3                                    0.0   \n",
       "4                                    0.0   \n",
       "\n",
       "   cl_unq_act_act_negocioaproxegresos_na  cl_unq_act_act_fechasolicitud_month  \\\n",
       "0                                    0.0                             0.454545   \n",
       "1                                    0.0                             0.636364   \n",
       "2                                    0.0                             0.636364   \n",
       "3                                    0.0                             0.909091   \n",
       "4                                    0.0                             0.454545   \n",
       "\n",
       "   cl_unq_act_act_totalgastosfam_ratio  \\\n",
       "0                             0.029331   \n",
       "1                             0.013749   \n",
       "2                             0.029331   \n",
       "3                             0.013749   \n",
       "4                             0.035747   \n",
       "\n",
       "   cl_unq_act_act_negociototalingresos_ratio  \\\n",
       "0                                   0.073073   \n",
       "1                                   0.015682   \n",
       "2                                   0.052386   \n",
       "3                                   0.030364   \n",
       "4                                   0.049049   \n",
       "\n",
       "   cl_unq_act_act_totalbienes_ratio  cl_unq_act_act_totalgastosfamvar_log  \\\n",
       "0                          0.005926                              0.738372   \n",
       "1                          0.000206                              0.653488   \n",
       "2                          0.005811                              0.693023   \n",
       "3                          0.002386                              0.715116   \n",
       "4                          0.004720                              0.713953   \n",
       "\n",
       "   cl_unq_act_act_negociototalingresosvar_log  \\\n",
       "0                                    0.600858   \n",
       "1                                    0.387697   \n",
       "2                                    0.496424   \n",
       "3                                    0.560801   \n",
       "4                                    0.486409   \n",
       "\n",
       "   cl_unq_act_act_totalbienesvar_log  cl_unq_act_act_montosolicitadovar_log  \n",
       "0                           0.584507                               0.545732  \n",
       "1                           0.289613                               0.545732  \n",
       "2                           0.546655                               0.423781  \n",
       "3                           0.554577                               0.722561  \n",
       "4                           0.528169                               0.423781  \n",
       "\n",
       "[5 rows x 191 columns]"
      ]
     },
     "execution_count": 8,
     "metadata": {},
     "output_type": "execute_result"
    }
   ],
   "source": [
    "print(directSale.shape)\n",
    "directSale.head()"
   ]
  },
  {
   "cell_type": "markdown",
   "metadata": {},
   "source": [
    "## Step 2: Preparing and splitting the data\n",
    "\n",
    "Given that this is clean tabular data, we don't need to do any processing. However, we do need to split the rows in the dataset up into train, test and validation sets."
   ]
  },
  {
   "cell_type": "code",
   "execution_count": 9,
   "metadata": {},
   "outputs": [],
   "source": [
    "TARGET = ['maxmora']\n",
    "date_var = ['cl_unq_act_act_finicionegocio', 'cl_unq_act_act_fechasolicitud']\n",
    "FEATURES = [feat for feat in directSaleTrain.columns.to_list() if feat not in TARGET + date_var]"
   ]
  },
  {
   "cell_type": "code",
   "execution_count": 10,
   "metadata": {},
   "outputs": [],
   "source": [
    "# First we package up the input data and the target variable (the median value) as pandas dataframes. This\n",
    "# will make saving the data to a file a little easier later on.\n",
    "\n",
    "#X_train = directSaleTrain[FEATURES]\n",
    "#Y_train = directSaleTrain[TARGET]\n",
    "#X_val = directSaleTest[FEATURES]\n",
    "#Y_val = directSaleTest[TARGET]\n",
    "\n",
    "X_train = directSale[FEATURES]\n",
    "Y_train = directSale[TARGET]\n",
    "\n",
    "# We split the dataset into 2/3 training and 1/3 testing sets.\n",
    "X_train, X_test, Y_train, Y_test = sklearn.model_selection.train_test_split(X_train, Y_train, test_size=0.33)\n",
    "\n",
    "# Then we split the training set further into 2/3 training and 1/3 validation sets.\n",
    "X_train, X_val, Y_train, Y_val = sklearn.model_selection.train_test_split(X_train, Y_train, test_size=0.33)"
   ]
  },
  {
   "cell_type": "code",
   "execution_count": 11,
   "metadata": {},
   "outputs": [
    {
     "name": "stdout",
     "output_type": "stream",
     "text": [
      "(7953, 187) (5848, 187) (3918, 187)\n"
     ]
    }
   ],
   "source": [
    "print(X_train.shape, X_test.shape, X_val.shape)"
   ]
  },
  {
   "cell_type": "markdown",
   "metadata": {},
   "source": [
    "## Step 3: Uploading the data files to S3\n",
    "\n",
    "When a training job is constructed using SageMaker, a container is executed which performs the training operation. This container is given access to data that is stored in S3. This means that we need to upload the data we want to use for training to S3. In addition, when we perform a batch transform job, SageMaker expects the input data to be stored on S3. We can use the SageMaker API to do this and hide some of the details.\n",
    "\n",
    "### Save the data locally\n",
    "\n",
    "First we need to create the test, train and validation csv files which we will then upload to S3."
   ]
  },
  {
   "cell_type": "code",
   "execution_count": 12,
   "metadata": {},
   "outputs": [],
   "source": [
    "# This is our local data directory. We need to make sure that it exists.\n",
    "data_dir = './data/directSaleClean/xgb_hpt'\n",
    "if not os.path.exists(data_dir):\n",
    "    os.makedirs(data_dir)"
   ]
  },
  {
   "cell_type": "code",
   "execution_count": 13,
   "metadata": {},
   "outputs": [],
   "source": [
    "# We use pandas to save our test, train and validation data to csv files. Note that we make sure not to include header\n",
    "# information or an index as this is required by the built in algorithms provided by Amazon. Also, for the train and\n",
    "# validation data, it is assumed that the first entry in each row is the target variable.\n",
    "\n",
    "X_test.to_csv(os.path.join(data_dir, 'test.csv'), header=False, index=False)\n",
    "\n",
    "pd.concat([Y_val, X_val], axis=1).to_csv(os.path.join(data_dir, 'validation.csv'), header=False, index=False)\n",
    "pd.concat([Y_train, X_train], axis=1).to_csv(os.path.join(data_dir, 'train.csv'), header=False, index=False)"
   ]
  },
  {
   "cell_type": "markdown",
   "metadata": {},
   "source": [
    "### Upload to S3\n",
    "\n",
    "Since we are currently running inside of a SageMaker session, we can use the object which represents this session to upload our data to the 'default' S3 bucket. Note that it is good practice to provide a custom prefix (essentially an S3 folder) to make sure that you don't accidentally interfere with data uploaded from some other notebook or project."
   ]
  },
  {
   "cell_type": "code",
   "execution_count": 14,
   "metadata": {},
   "outputs": [],
   "source": [
    "prefix = 'directSaleClean-xgboost-tuning-HL'\n",
    "\n",
    "test_location = session.upload_data(os.path.join(data_dir, 'test.csv'), key_prefix=prefix)\n",
    "val_location = session.upload_data(os.path.join(data_dir, 'validation.csv'), key_prefix=prefix)\n",
    "train_location = session.upload_data(os.path.join(data_dir, 'train.csv'), key_prefix=prefix)"
   ]
  },
  {
   "cell_type": "markdown",
   "metadata": {},
   "source": [
    "## Step 4: Train the XGBoost model\n",
    "\n",
    "Now that we have the training and validation data uploaded to S3, we can construct our XGBoost model and train it. Unlike in the previous notebooks, instead of training a single model, we will use SageMaker's hyperparameter tuning functionality to train multiple models and use the one that performs the best on the validation set.\n",
    "\n",
    "To begin with, as in the previous approaches, we will need to construct an estimator object."
   ]
  },
  {
   "cell_type": "code",
   "execution_count": 15,
   "metadata": {},
   "outputs": [
    {
     "name": "stderr",
     "output_type": "stream",
     "text": [
      "'get_image_uri' method will be deprecated in favor of 'ImageURIProvider' class in SageMaker Python SDK v2.\n",
      "There is a more up to date SageMaker XGBoost image. To use the newer image, please set 'repo_version'='1.0-1'. For example:\n",
      "\tget_image_uri(region, 'xgboost', '1.0-1').\n",
      "Parameter image_name will be renamed to image_uri in SageMaker Python SDK v2.\n"
     ]
    }
   ],
   "source": [
    "# As stated above, we use this utility method to construct the image name for the training container.\n",
    "container = get_image_uri(session.boto_region_name, 'xgboost')\n",
    "\n",
    "# Now that we know which container to use, we can construct the estimator object.\n",
    "xgb = sagemaker.estimator.Estimator(container, # The name of the training container\n",
    "                                    role,      # The IAM role to use (our current role in this case)\n",
    "                                    train_instance_count=1, # The number of instances to use for training\n",
    "                                    train_instance_type='ml.m5.xlarge',#'ml.m4.xlarge', # The type of instance ot use for training\n",
    "                                    output_path='s3://{}/{}/output'.format(session.default_bucket(), prefix),\n",
    "                                                                        # Where to save the output (the model artifacts)\n",
    "                                    sagemaker_session=session) # The current SageMaker session"
   ]
  },
  {
   "cell_type": "markdown",
   "metadata": {},
   "source": [
    "Before beginning the hyperparameter tuning, we should make sure to set any model specific hyperparameters that we wish to have default values. There are quite a few that can be set when using the XGBoost algorithm, below are just a few of them. If you would like to change the hyperparameters below or modify additional ones you can find additional information on the [XGBoost hyperparameter page](https://docs.aws.amazon.com/sagemaker/latest/dg/xgboost_hyperparameters.html)"
   ]
  },
  {
   "cell_type": "code",
   "execution_count": 16,
   "metadata": {},
   "outputs": [],
   "source": [
    "xgb.set_hyperparameters(max_depth=5,\n",
    "                        eta=0.2,\n",
    "                        gamma=4,\n",
    "                        min_child_weight=6,\n",
    "                        subsample=0.8,\n",
    "                        objective='reg:logistic',\n",
    "                        early_stopping_rounds=10,\n",
    "                        num_round=200)"
   ]
  },
  {
   "cell_type": "markdown",
   "metadata": {},
   "source": [
    "Now that we have our estimator object completely set up, it is time to create the hyperparameter tuner. To do this we need to construct a new object which contains each of the parameters we want SageMaker to tune. In this case, we wish to find the best values for the `max_depth`, `eta`, `min_child_weight`, `subsample`, and `gamma` parameters. Note that for each parameter that we want SageMaker to tune we need to specify both the *type* of the parameter and the *range* of values that parameter may take on.\n",
    "\n",
    "In addition, we specify the *number* of models to construct (`max_jobs`) and the number of those that can be trained in parallel (`max_parallel_jobs`). In the cell below we have chosen to train `20` models, of which we ask that SageMaker train `3` at a time in parallel. Note that this results in a total of `20` training jobs being executed which can take some time, in this case almost a half hour. With more complicated models this can take even longer so be aware!"
   ]
  },
  {
   "cell_type": "code",
   "execution_count": 18,
   "metadata": {},
   "outputs": [],
   "source": [
    "from sagemaker.tuner import IntegerParameter, ContinuousParameter, HyperparameterTuner\n",
    "\n",
    "xgb_hyperparameter_tuner = HyperparameterTuner(estimator = xgb, # The estimator object to use as the basis for the training jobs.\n",
    "                                               objective_metric_name = 'validation:logloss', #'rmse, logloss' # The metric used to compare trained models.\n",
    "                                               objective_type = 'Minimize', # Whether we wish to minimize or maximize the metric.\n",
    "                                               max_jobs = 50, # The total number of models to train\n",
    "                                               max_parallel_jobs = 5, # The number of models to train in parallel\n",
    "                                               hyperparameter_ranges = {\n",
    "                                                    'max_depth': IntegerParameter(3, 12),\n",
    "                                                    'eta'      : ContinuousParameter(0.05, 0.5),\n",
    "                                                    'min_child_weight': IntegerParameter(2, 8),\n",
    "                                                    'subsample': ContinuousParameter(0.5, 0.9),\n",
    "                                                    'gamma': ContinuousParameter(0, 10),\n",
    "                                               })"
   ]
  },
  {
   "cell_type": "markdown",
   "metadata": {},
   "source": [
    "Now that we have our hyperparameter tuner object completely set up, it is time to train it. To do this we make sure that SageMaker knows our input data is in csv format and then execute the `fit` method."
   ]
  },
  {
   "cell_type": "code",
   "execution_count": 19,
   "metadata": {},
   "outputs": [
    {
     "name": "stderr",
     "output_type": "stream",
     "text": [
      "'s3_input' class will be renamed to 'TrainingInput' in SageMaker Python SDK v2.\n",
      "'s3_input' class will be renamed to 'TrainingInput' in SageMaker Python SDK v2.\n"
     ]
    }
   ],
   "source": [
    "# This is a wrapper around the location of our train and validation data, to make sure that SageMaker\n",
    "# knows our data is in csv format.\n",
    "s3_input_train = sagemaker.s3_input(s3_data=train_location, content_type='csv')\n",
    "s3_input_validation = sagemaker.s3_input(s3_data=val_location, content_type='csv')\n",
    "\n",
    "xgb_hyperparameter_tuner.fit({'train': s3_input_train, 'validation': s3_input_validation})"
   ]
  },
  {
   "cell_type": "markdown",
   "metadata": {},
   "source": [
    "As in many of the examples we have seen so far, the `fit()` method takes care of setting up and fitting a number of different models, each with different hyperparameters. If we wish to wait for this process to finish, we can call the `wait()` method."
   ]
  },
  {
   "cell_type": "code",
   "execution_count": 20,
   "metadata": {},
   "outputs": [
    {
     "name": "stdout",
     "output_type": "stream",
     "text": [
      "....................................................................................................................................................................................................................................................................................................................................................................................................................................................!\n"
     ]
    }
   ],
   "source": [
    "xgb_hyperparameter_tuner.wait()"
   ]
  },
  {
   "cell_type": "markdown",
   "metadata": {},
   "source": [
    "Once the hyperamater tuner has finished, we can retrieve information about the best performing model. "
   ]
  },
  {
   "cell_type": "code",
   "execution_count": 21,
   "metadata": {},
   "outputs": [
    {
     "data": {
      "text/plain": [
       "'xgboost-210415-1928-023-56a326f7'"
      ]
     },
     "execution_count": 21,
     "metadata": {},
     "output_type": "execute_result"
    }
   ],
   "source": [
    "xgb_hyperparameter_tuner.best_training_job()"
   ]
  },
  {
   "cell_type": "markdown",
   "metadata": {},
   "source": [
    "In addition, since we'd like to set up a batch transform job to test the best model, we can construct a new estimator object from the results of the best training job. The `xgb_attached` object below can now be used as though we constructed an estimator with the best performing hyperparameters and then fit it to our training data."
   ]
  },
  {
   "cell_type": "code",
   "execution_count": 22,
   "metadata": {},
   "outputs": [
    {
     "name": "stderr",
     "output_type": "stream",
     "text": [
      "Parameter image_name will be renamed to image_uri in SageMaker Python SDK v2.\n"
     ]
    },
    {
     "name": "stdout",
     "output_type": "stream",
     "text": [
      "2021-04-15 19:46:50 Starting - Preparing the instances for training\n",
      "2021-04-15 19:46:50 Downloading - Downloading input data\n",
      "2021-04-15 19:46:50 Training - Training image download completed. Training in progress.\n",
      "2021-04-15 19:46:50 Uploading - Uploading generated training model\n",
      "2021-04-15 19:46:50 Completed - Training job completed\u001b[34mArguments: train\u001b[0m\n",
      "\u001b[34m[2021-04-15:19:46:33:INFO] Running standalone xgboost training.\u001b[0m\n",
      "\u001b[34m[2021-04-15:19:46:33:INFO] Setting up HPO optimized metric to be : logloss\u001b[0m\n",
      "\u001b[34m[2021-04-15:19:46:33:INFO] File size need to be processed in the node: 16.73mb. Available memory size in the node: 7940.71mb\u001b[0m\n",
      "\u001b[34m[2021-04-15:19:46:33:INFO] Determined delimiter of CSV input is ','\u001b[0m\n",
      "\u001b[34m[19:46:33] S3DistributionType set as FullyReplicated\u001b[0m\n",
      "\u001b[34m[19:46:33] 7953x187 matrix with 1487211 entries loaded from /opt/ml/input/data/train?format=csv&label_column=0&delimiter=,\u001b[0m\n",
      "\u001b[34m[2021-04-15:19:46:33:INFO] Determined delimiter of CSV input is ','\u001b[0m\n",
      "\u001b[34m[19:46:33] S3DistributionType set as FullyReplicated\u001b[0m\n",
      "\u001b[34m[19:46:33] 3918x187 matrix with 732666 entries loaded from /opt/ml/input/data/validation?format=csv&label_column=0&delimiter=,\u001b[0m\n",
      "\u001b[34m[19:46:33] src/tree/updater_prune.cc:74: tree pruning end, 1 roots, 140 extra nodes, 114 pruned nodes, max_depth=10\u001b[0m\n",
      "\u001b[34m[0]#011train-logloss:0.67277#011validation-logloss:0.677149\u001b[0m\n",
      "\u001b[34mMultiple eval metrics have been passed: 'validation-logloss' will be used for early stopping.\n",
      "\u001b[0m\n",
      "\u001b[34mWill train until validation-logloss hasn't improved in 10 rounds.\u001b[0m\n",
      "\u001b[34m[19:46:34] src/tree/updater_prune.cc:74: tree pruning end, 1 roots, 128 extra nodes, 92 pruned nodes, max_depth=10\u001b[0m\n",
      "\u001b[34m[1]#011train-logloss:0.654757#011validation-logloss:0.663008\u001b[0m\n",
      "\u001b[34m[19:46:34] src/tree/updater_prune.cc:74: tree pruning end, 1 roots, 130 extra nodes, 88 pruned nodes, max_depth=10\u001b[0m\n",
      "\u001b[34m[2]#011train-logloss:0.637532#011validation-logloss:0.649134\u001b[0m\n",
      "\u001b[34m[19:46:34] src/tree/updater_prune.cc:74: tree pruning end, 1 roots, 144 extra nodes, 78 pruned nodes, max_depth=10\u001b[0m\n",
      "\u001b[34m[3]#011train-logloss:0.621624#011validation-logloss:0.637011\u001b[0m\n",
      "\u001b[34m[19:46:34] src/tree/updater_prune.cc:74: tree pruning end, 1 roots, 130 extra nodes, 82 pruned nodes, max_depth=10\u001b[0m\n",
      "\u001b[34m[4]#011train-logloss:0.607621#011validation-logloss:0.626137\u001b[0m\n",
      "\u001b[34m[19:46:34] src/tree/updater_prune.cc:74: tree pruning end, 1 roots, 136 extra nodes, 108 pruned nodes, max_depth=10\u001b[0m\n",
      "\u001b[34m[5]#011train-logloss:0.593709#011validation-logloss:0.615586\u001b[0m\n",
      "\u001b[34m[19:46:34] src/tree/updater_prune.cc:74: tree pruning end, 1 roots, 140 extra nodes, 94 pruned nodes, max_depth=10\u001b[0m\n",
      "\u001b[34m[6]#011train-logloss:0.58062#011validation-logloss:0.605748\u001b[0m\n",
      "\u001b[34m[19:46:34] src/tree/updater_prune.cc:74: tree pruning end, 1 roots, 136 extra nodes, 92 pruned nodes, max_depth=10\u001b[0m\n",
      "\u001b[34m[7]#011train-logloss:0.569191#011validation-logloss:0.597522\u001b[0m\n",
      "\u001b[34m[19:46:34] src/tree/updater_prune.cc:74: tree pruning end, 1 roots, 150 extra nodes, 106 pruned nodes, max_depth=10\u001b[0m\n",
      "\u001b[34m[8]#011train-logloss:0.557574#011validation-logloss:0.589514\u001b[0m\n",
      "\u001b[34m[19:46:34] src/tree/updater_prune.cc:74: tree pruning end, 1 roots, 112 extra nodes, 100 pruned nodes, max_depth=10\u001b[0m\n",
      "\u001b[34m[9]#011train-logloss:0.547731#011validation-logloss:0.581968\u001b[0m\n",
      "\u001b[34m[19:46:34] src/tree/updater_prune.cc:74: tree pruning end, 1 roots, 126 extra nodes, 110 pruned nodes, max_depth=10\u001b[0m\n",
      "\u001b[34m[10]#011train-logloss:0.538496#011validation-logloss:0.575233\u001b[0m\n",
      "\u001b[34m[19:46:34] src/tree/updater_prune.cc:74: tree pruning end, 1 roots, 126 extra nodes, 114 pruned nodes, max_depth=10\u001b[0m\n",
      "\u001b[34m[11]#011train-logloss:0.529707#011validation-logloss:0.569255\u001b[0m\n",
      "\u001b[34m[19:46:34] src/tree/updater_prune.cc:74: tree pruning end, 1 roots, 132 extra nodes, 96 pruned nodes, max_depth=10\u001b[0m\n",
      "\u001b[34m[12]#011train-logloss:0.521134#011validation-logloss:0.563523\u001b[0m\n",
      "\u001b[34m[19:46:34] src/tree/updater_prune.cc:74: tree pruning end, 1 roots, 134 extra nodes, 86 pruned nodes, max_depth=10\u001b[0m\n",
      "\u001b[34m[13]#011train-logloss:0.512754#011validation-logloss:0.557917\u001b[0m\n",
      "\u001b[34m[19:46:34] src/tree/updater_prune.cc:74: tree pruning end, 1 roots, 122 extra nodes, 82 pruned nodes, max_depth=10\u001b[0m\n",
      "\u001b[34m[14]#011train-logloss:0.505073#011validation-logloss:0.552767\u001b[0m\n",
      "\u001b[34m[19:46:34] src/tree/updater_prune.cc:74: tree pruning end, 1 roots, 126 extra nodes, 94 pruned nodes, max_depth=10\u001b[0m\n",
      "\u001b[34m[15]#011train-logloss:0.4981#011validation-logloss:0.548292\u001b[0m\n",
      "\u001b[34m[19:46:34] src/tree/updater_prune.cc:74: tree pruning end, 1 roots, 136 extra nodes, 108 pruned nodes, max_depth=10\u001b[0m\n",
      "\u001b[34m[16]#011train-logloss:0.491471#011validation-logloss:0.544419\u001b[0m\n",
      "\u001b[34m[19:46:34] src/tree/updater_prune.cc:74: tree pruning end, 1 roots, 124 extra nodes, 110 pruned nodes, max_depth=10\u001b[0m\n",
      "\u001b[34m[17]#011train-logloss:0.484409#011validation-logloss:0.539876\u001b[0m\n",
      "\u001b[34m[19:46:35] src/tree/updater_prune.cc:74: tree pruning end, 1 roots, 98 extra nodes, 142 pruned nodes, max_depth=10\u001b[0m\n",
      "\u001b[34m[18]#011train-logloss:0.478917#011validation-logloss:0.536672\u001b[0m\n",
      "\u001b[34m[19:46:35] src/tree/updater_prune.cc:74: tree pruning end, 1 roots, 110 extra nodes, 104 pruned nodes, max_depth=10\u001b[0m\n",
      "\u001b[34m[19]#011train-logloss:0.473633#011validation-logloss:0.533587\u001b[0m\n",
      "\u001b[34m[19:46:35] src/tree/updater_prune.cc:74: tree pruning end, 1 roots, 134 extra nodes, 110 pruned nodes, max_depth=10\u001b[0m\n",
      "\u001b[34m[20]#011train-logloss:0.468079#011validation-logloss:0.530296\u001b[0m\n",
      "\u001b[34m[19:46:35] src/tree/updater_prune.cc:74: tree pruning end, 1 roots, 130 extra nodes, 102 pruned nodes, max_depth=10\u001b[0m\n",
      "\u001b[34m[21]#011train-logloss:0.462115#011validation-logloss:0.526553\u001b[0m\n",
      "\u001b[34m[19:46:35] src/tree/updater_prune.cc:74: tree pruning end, 1 roots, 120 extra nodes, 102 pruned nodes, max_depth=10\u001b[0m\n",
      "\u001b[34m[22]#011train-logloss:0.45644#011validation-logloss:0.522512\u001b[0m\n",
      "\u001b[34m[19:46:35] src/tree/updater_prune.cc:74: tree pruning end, 1 roots, 102 extra nodes, 94 pruned nodes, max_depth=10\u001b[0m\n",
      "\u001b[34m[23]#011train-logloss:0.451748#011validation-logloss:0.519661\u001b[0m\n",
      "\u001b[34m[19:46:35] src/tree/updater_prune.cc:74: tree pruning end, 1 roots, 96 extra nodes, 74 pruned nodes, max_depth=10\u001b[0m\n",
      "\u001b[34m[24]#011train-logloss:0.44734#011validation-logloss:0.516703\u001b[0m\n",
      "\u001b[34m[19:46:35] src/tree/updater_prune.cc:74: tree pruning end, 1 roots, 112 extra nodes, 130 pruned nodes, max_depth=10\u001b[0m\n",
      "\u001b[34m[25]#011train-logloss:0.442679#011validation-logloss:0.514154\u001b[0m\n",
      "\u001b[34m[19:46:35] src/tree/updater_prune.cc:74: tree pruning end, 1 roots, 112 extra nodes, 84 pruned nodes, max_depth=10\u001b[0m\n",
      "\u001b[34m[26]#011train-logloss:0.437791#011validation-logloss:0.510746\u001b[0m\n",
      "\u001b[34m[19:46:35] src/tree/updater_prune.cc:74: tree pruning end, 1 roots, 136 extra nodes, 102 pruned nodes, max_depth=10\u001b[0m\n",
      "\u001b[34m[27]#011train-logloss:0.43259#011validation-logloss:0.507263\u001b[0m\n",
      "\u001b[34m[19:46:35] src/tree/updater_prune.cc:74: tree pruning end, 1 roots, 118 extra nodes, 60 pruned nodes, max_depth=10\u001b[0m\n",
      "\u001b[34m[28]#011train-logloss:0.428477#011validation-logloss:0.50519\u001b[0m\n",
      "\u001b[34m[19:46:35] src/tree/updater_prune.cc:74: tree pruning end, 1 roots, 118 extra nodes, 120 pruned nodes, max_depth=10\u001b[0m\n",
      "\u001b[34m[29]#011train-logloss:0.424472#011validation-logloss:0.503575\u001b[0m\n",
      "\u001b[34m[19:46:35] src/tree/updater_prune.cc:74: tree pruning end, 1 roots, 96 extra nodes, 130 pruned nodes, max_depth=10\u001b[0m\n",
      "\u001b[34m[30]#011train-logloss:0.421277#011validation-logloss:0.502326\u001b[0m\n",
      "\u001b[34m[19:46:35] src/tree/updater_prune.cc:74: tree pruning end, 1 roots, 108 extra nodes, 112 pruned nodes, max_depth=10\u001b[0m\n",
      "\u001b[34m[31]#011train-logloss:0.418038#011validation-logloss:0.500878\u001b[0m\n",
      "\u001b[34m[19:46:35] src/tree/updater_prune.cc:74: tree pruning end, 1 roots, 88 extra nodes, 90 pruned nodes, max_depth=10\u001b[0m\n",
      "\u001b[34m[32]#011train-logloss:0.415209#011validation-logloss:0.499562\u001b[0m\n",
      "\u001b[34m[19:46:35] src/tree/updater_prune.cc:74: tree pruning end, 1 roots, 96 extra nodes, 96 pruned nodes, max_depth=10\u001b[0m\n",
      "\u001b[34m[33]#011train-logloss:0.411693#011validation-logloss:0.497013\u001b[0m\n",
      "\u001b[34m[19:46:35] src/tree/updater_prune.cc:74: tree pruning end, 1 roots, 104 extra nodes, 98 pruned nodes, max_depth=10\u001b[0m\n",
      "\u001b[34m[34]#011train-logloss:0.408641#011validation-logloss:0.496007\u001b[0m\n",
      "\u001b[34m[19:46:35] src/tree/updater_prune.cc:74: tree pruning end, 1 roots, 96 extra nodes, 78 pruned nodes, max_depth=10\u001b[0m\n",
      "\u001b[34m[35]#011train-logloss:0.405757#011validation-logloss:0.49476\u001b[0m\n",
      "\u001b[34m[19:46:36] src/tree/updater_prune.cc:74: tree pruning end, 1 roots, 110 extra nodes, 102 pruned nodes, max_depth=10\u001b[0m\n",
      "\u001b[34m[36]#011train-logloss:0.402506#011validation-logloss:0.493514\u001b[0m\n",
      "\u001b[34m[19:46:36] src/tree/updater_prune.cc:74: tree pruning end, 1 roots, 120 extra nodes, 106 pruned nodes, max_depth=10\u001b[0m\n",
      "\u001b[34m[37]#011train-logloss:0.398922#011validation-logloss:0.491325\u001b[0m\n",
      "\u001b[34m[19:46:36] src/tree/updater_prune.cc:74: tree pruning end, 1 roots, 88 extra nodes, 80 pruned nodes, max_depth=10\u001b[0m\n",
      "\u001b[34m[38]#011train-logloss:0.395502#011validation-logloss:0.489289\u001b[0m\n",
      "\u001b[34m[19:46:36] src/tree/updater_prune.cc:74: tree pruning end, 1 roots, 90 extra nodes, 106 pruned nodes, max_depth=10\u001b[0m\n",
      "\u001b[34m[39]#011train-logloss:0.392656#011validation-logloss:0.487436\u001b[0m\n",
      "\u001b[34m[19:46:36] src/tree/updater_prune.cc:74: tree pruning end, 1 roots, 120 extra nodes, 114 pruned nodes, max_depth=10\u001b[0m\n",
      "\u001b[34m[40]#011train-logloss:0.389015#011validation-logloss:0.485497\u001b[0m\n",
      "\u001b[34m[19:46:36] src/tree/updater_prune.cc:74: tree pruning end, 1 roots, 80 extra nodes, 60 pruned nodes, max_depth=10\u001b[0m\n",
      "\u001b[34m[41]#011train-logloss:0.386949#011validation-logloss:0.484723\u001b[0m\n",
      "\u001b[34m[19:46:36] src/tree/updater_prune.cc:74: tree pruning end, 1 roots, 76 extra nodes, 68 pruned nodes, max_depth=10\u001b[0m\n",
      "\u001b[34m[42]#011train-logloss:0.384862#011validation-logloss:0.483973\u001b[0m\n",
      "\u001b[34m[19:46:36] src/tree/updater_prune.cc:74: tree pruning end, 1 roots, 82 extra nodes, 82 pruned nodes, max_depth=10\u001b[0m\n",
      "\u001b[34m[43]#011train-logloss:0.381934#011validation-logloss:0.482209\u001b[0m\n",
      "\u001b[34m[19:46:36] src/tree/updater_prune.cc:74: tree pruning end, 1 roots, 92 extra nodes, 88 pruned nodes, max_depth=10\u001b[0m\n",
      "\u001b[34m[44]#011train-logloss:0.379123#011validation-logloss:0.481\u001b[0m\n",
      "\u001b[34m[19:46:36] src/tree/updater_prune.cc:74: tree pruning end, 1 roots, 88 extra nodes, 78 pruned nodes, max_depth=10\u001b[0m\n",
      "\u001b[34m[45]#011train-logloss:0.376824#011validation-logloss:0.480104\u001b[0m\n",
      "\u001b[34m[19:46:36] src/tree/updater_prune.cc:74: tree pruning end, 1 roots, 92 extra nodes, 78 pruned nodes, max_depth=10\u001b[0m\n",
      "\u001b[34m[46]#011train-logloss:0.374599#011validation-logloss:0.479631\u001b[0m\n",
      "\u001b[34m[19:46:36] src/tree/updater_prune.cc:74: tree pruning end, 1 roots, 92 extra nodes, 82 pruned nodes, max_depth=10\u001b[0m\n",
      "\u001b[34m[47]#011train-logloss:0.371883#011validation-logloss:0.478346\u001b[0m\n",
      "\u001b[34m[19:46:36] src/tree/updater_prune.cc:74: tree pruning end, 1 roots, 70 extra nodes, 126 pruned nodes, max_depth=10\u001b[0m\n",
      "\u001b[34m[48]#011train-logloss:0.3702#011validation-logloss:0.477897\u001b[0m\n",
      "\u001b[34m[19:46:36] src/tree/updater_prune.cc:74: tree pruning end, 1 roots, 58 extra nodes, 58 pruned nodes, max_depth=10\u001b[0m\n",
      "\u001b[34m[49]#011train-logloss:0.368623#011validation-logloss:0.476987\u001b[0m\n",
      "\u001b[34m[19:46:36] src/tree/updater_prune.cc:74: tree pruning end, 1 roots, 96 extra nodes, 102 pruned nodes, max_depth=10\u001b[0m\n",
      "\u001b[34m[50]#011train-logloss:0.366407#011validation-logloss:0.476437\u001b[0m\n",
      "\u001b[34m[19:46:36] src/tree/updater_prune.cc:74: tree pruning end, 1 roots, 90 extra nodes, 84 pruned nodes, max_depth=10\u001b[0m\n",
      "\u001b[34m[51]#011train-logloss:0.364309#011validation-logloss:0.475744\u001b[0m\n",
      "\u001b[34m[19:46:36] src/tree/updater_prune.cc:74: tree pruning end, 1 roots, 76 extra nodes, 64 pruned nodes, max_depth=10\u001b[0m\n",
      "\u001b[34m[52]#011train-logloss:0.362321#011validation-logloss:0.474548\u001b[0m\n",
      "\u001b[34m[19:46:37] src/tree/updater_prune.cc:74: tree pruning end, 1 roots, 90 extra nodes, 100 pruned nodes, max_depth=10\u001b[0m\n",
      "\u001b[34m[53]#011train-logloss:0.360256#011validation-logloss:0.473918\u001b[0m\n",
      "\u001b[34m[19:46:37] src/tree/updater_prune.cc:74: tree pruning end, 1 roots, 112 extra nodes, 100 pruned nodes, max_depth=10\u001b[0m\n",
      "\u001b[34m[54]#011train-logloss:0.358005#011validation-logloss:0.473892\u001b[0m\n",
      "\u001b[34m[19:46:37] src/tree/updater_prune.cc:74: tree pruning end, 1 roots, 70 extra nodes, 58 pruned nodes, max_depth=10\u001b[0m\n",
      "\u001b[34m[55]#011train-logloss:0.356431#011validation-logloss:0.473569\u001b[0m\n",
      "\u001b[34m[19:46:37] src/tree/updater_prune.cc:74: tree pruning end, 1 roots, 82 extra nodes, 82 pruned nodes, max_depth=10\u001b[0m\n",
      "\u001b[34m[56]#011train-logloss:0.354611#011validation-logloss:0.473229\u001b[0m\n",
      "\u001b[34m[19:46:37] src/tree/updater_prune.cc:74: tree pruning end, 1 roots, 44 extra nodes, 74 pruned nodes, max_depth=10\u001b[0m\n",
      "\u001b[34m[57]#011train-logloss:0.35347#011validation-logloss:0.472756\u001b[0m\n",
      "\u001b[34m[19:46:37] src/tree/updater_prune.cc:74: tree pruning end, 1 roots, 76 extra nodes, 92 pruned nodes, max_depth=10\u001b[0m\n",
      "\u001b[34m[58]#011train-logloss:0.351805#011validation-logloss:0.472481\u001b[0m\n",
      "\u001b[34m[19:46:37] src/tree/updater_prune.cc:74: tree pruning end, 1 roots, 64 extra nodes, 58 pruned nodes, max_depth=10\u001b[0m\n",
      "\u001b[34m[59]#011train-logloss:0.350436#011validation-logloss:0.472317\u001b[0m\n",
      "\u001b[34m[19:46:37] src/tree/updater_prune.cc:74: tree pruning end, 1 roots, 70 extra nodes, 84 pruned nodes, max_depth=10\u001b[0m\n",
      "\u001b[34m[60]#011train-logloss:0.349012#011validation-logloss:0.472194\u001b[0m\n",
      "\u001b[34m[19:46:37] src/tree/updater_prune.cc:74: tree pruning end, 1 roots, 72 extra nodes, 76 pruned nodes, max_depth=10\u001b[0m\n",
      "\u001b[34m[61]#011train-logloss:0.347497#011validation-logloss:0.471916\u001b[0m\n",
      "\u001b[34m[19:46:37] src/tree/updater_prune.cc:74: tree pruning end, 1 roots, 82 extra nodes, 96 pruned nodes, max_depth=10\u001b[0m\n",
      "\u001b[34m[62]#011train-logloss:0.345804#011validation-logloss:0.47193\u001b[0m\n",
      "\u001b[34m[19:46:37] src/tree/updater_prune.cc:74: tree pruning end, 1 roots, 60 extra nodes, 112 pruned nodes, max_depth=10\u001b[0m\n",
      "\u001b[34m[63]#011train-logloss:0.344614#011validation-logloss:0.471794\u001b[0m\n",
      "\u001b[34m[19:46:37] src/tree/updater_prune.cc:74: tree pruning end, 1 roots, 58 extra nodes, 80 pruned nodes, max_depth=10\u001b[0m\n",
      "\u001b[34m[64]#011train-logloss:0.343424#011validation-logloss:0.471671\u001b[0m\n",
      "\u001b[34m[19:46:37] src/tree/updater_prune.cc:74: tree pruning end, 1 roots, 72 extra nodes, 48 pruned nodes, max_depth=10\u001b[0m\n",
      "\u001b[34m[65]#011train-logloss:0.341997#011validation-logloss:0.471386\u001b[0m\n",
      "\u001b[34m[19:46:37] src/tree/updater_prune.cc:74: tree pruning end, 1 roots, 78 extra nodes, 58 pruned nodes, max_depth=10\u001b[0m\n",
      "\u001b[34m[66]#011train-logloss:0.34055#011validation-logloss:0.47098\u001b[0m\n",
      "\u001b[34m[19:46:37] src/tree/updater_prune.cc:74: tree pruning end, 1 roots, 82 extra nodes, 86 pruned nodes, max_depth=10\u001b[0m\n",
      "\u001b[34m[67]#011train-logloss:0.33883#011validation-logloss:0.470705\u001b[0m\n",
      "\u001b[34m[19:46:37] src/tree/updater_prune.cc:74: tree pruning end, 1 roots, 94 extra nodes, 104 pruned nodes, max_depth=10\u001b[0m\n",
      "\u001b[34m[68]#011train-logloss:0.337027#011validation-logloss:0.470156\u001b[0m\n",
      "\u001b[34m[19:46:37] src/tree/updater_prune.cc:74: tree pruning end, 1 roots, 70 extra nodes, 128 pruned nodes, max_depth=10\u001b[0m\n",
      "\u001b[34m[69]#011train-logloss:0.335605#011validation-logloss:0.469939\u001b[0m\n",
      "\u001b[34m[19:46:37] src/tree/updater_prune.cc:74: tree pruning end, 1 roots, 94 extra nodes, 120 pruned nodes, max_depth=10\u001b[0m\n",
      "\u001b[34m[70]#011train-logloss:0.333449#011validation-logloss:0.469042\u001b[0m\n",
      "\u001b[34m[19:46:38] src/tree/updater_prune.cc:74: tree pruning end, 1 roots, 70 extra nodes, 60 pruned nodes, max_depth=10\u001b[0m\n",
      "\u001b[34m[71]#011train-logloss:0.332116#011validation-logloss:0.468951\u001b[0m\n",
      "\u001b[34m[19:46:38] src/tree/updater_prune.cc:74: tree pruning end, 1 roots, 76 extra nodes, 100 pruned nodes, max_depth=10\u001b[0m\n",
      "\u001b[34m[72]#011train-logloss:0.330578#011validation-logloss:0.468497\u001b[0m\n",
      "\u001b[34m[19:46:38] src/tree/updater_prune.cc:74: tree pruning end, 1 roots, 70 extra nodes, 124 pruned nodes, max_depth=10\u001b[0m\n",
      "\u001b[34m[73]#011train-logloss:0.329316#011validation-logloss:0.468411\u001b[0m\n",
      "\u001b[34m[19:46:38] src/tree/updater_prune.cc:74: tree pruning end, 1 roots, 58 extra nodes, 108 pruned nodes, max_depth=10\u001b[0m\n",
      "\u001b[34m[74]#011train-logloss:0.328169#011validation-logloss:0.468254\u001b[0m\n",
      "\u001b[34m[19:46:38] src/tree/updater_prune.cc:74: tree pruning end, 1 roots, 70 extra nodes, 98 pruned nodes, max_depth=10\u001b[0m\n",
      "\u001b[34m[75]#011train-logloss:0.326164#011validation-logloss:0.466855\u001b[0m\n",
      "\u001b[34m[19:46:38] src/tree/updater_prune.cc:74: tree pruning end, 1 roots, 74 extra nodes, 76 pruned nodes, max_depth=10\u001b[0m\n",
      "\u001b[34m[76]#011train-logloss:0.324626#011validation-logloss:0.466584\u001b[0m\n",
      "\u001b[34m[19:46:38] src/tree/updater_prune.cc:74: tree pruning end, 1 roots, 66 extra nodes, 54 pruned nodes, max_depth=10\u001b[0m\n",
      "\u001b[34m[77]#011train-logloss:0.323425#011validation-logloss:0.466235\u001b[0m\n",
      "\u001b[34m[19:46:38] src/tree/updater_prune.cc:74: tree pruning end, 1 roots, 66 extra nodes, 78 pruned nodes, max_depth=10\u001b[0m\n",
      "\u001b[34m[78]#011train-logloss:0.32203#011validation-logloss:0.465489\u001b[0m\n",
      "\u001b[34m[19:46:38] src/tree/updater_prune.cc:74: tree pruning end, 1 roots, 62 extra nodes, 88 pruned nodes, max_depth=10\u001b[0m\n",
      "\u001b[34m[79]#011train-logloss:0.320822#011validation-logloss:0.46539\u001b[0m\n",
      "\u001b[34m[19:46:38] src/tree/updater_prune.cc:74: tree pruning end, 1 roots, 62 extra nodes, 70 pruned nodes, max_depth=10\u001b[0m\n",
      "\u001b[34m[80]#011train-logloss:0.319793#011validation-logloss:0.465328\u001b[0m\n",
      "\u001b[34m[19:46:38] src/tree/updater_prune.cc:74: tree pruning end, 1 roots, 82 extra nodes, 150 pruned nodes, max_depth=9\u001b[0m\n",
      "\u001b[34m[81]#011train-logloss:0.318127#011validation-logloss:0.464364\u001b[0m\n",
      "\u001b[34m[19:46:38] src/tree/updater_prune.cc:74: tree pruning end, 1 roots, 48 extra nodes, 98 pruned nodes, max_depth=9\u001b[0m\n",
      "\u001b[34m[82]#011train-logloss:0.317233#011validation-logloss:0.464133\u001b[0m\n",
      "\u001b[34m[19:46:38] src/tree/updater_prune.cc:74: tree pruning end, 1 roots, 20 extra nodes, 30 pruned nodes, max_depth=9\u001b[0m\n",
      "\u001b[34m[83]#011train-logloss:0.316859#011validation-logloss:0.464133\u001b[0m\n",
      "\u001b[34m[19:46:39] src/tree/updater_prune.cc:74: tree pruning end, 1 roots, 62 extra nodes, 70 pruned nodes, max_depth=10\u001b[0m\n",
      "\u001b[34m[84]#011train-logloss:0.315826#011validation-logloss:0.464024\u001b[0m\n",
      "\u001b[34m[19:46:39] src/tree/updater_prune.cc:74: tree pruning end, 1 roots, 50 extra nodes, 92 pruned nodes, max_depth=10\u001b[0m\n",
      "\u001b[34m[85]#011train-logloss:0.314987#011validation-logloss:0.463746\u001b[0m\n",
      "\u001b[34m[19:46:39] src/tree/updater_prune.cc:74: tree pruning end, 1 roots, 80 extra nodes, 116 pruned nodes, max_depth=10\u001b[0m\n",
      "\u001b[34m[86]#011train-logloss:0.313547#011validation-logloss:0.463816\u001b[0m\n",
      "\u001b[34m[19:46:39] src/tree/updater_prune.cc:74: tree pruning end, 1 roots, 50 extra nodes, 42 pruned nodes, max_depth=10\u001b[0m\n",
      "\u001b[34m[87]#011train-logloss:0.312618#011validation-logloss:0.463766\u001b[0m\n",
      "\u001b[34m[19:46:39] src/tree/updater_prune.cc:74: tree pruning end, 1 roots, 40 extra nodes, 116 pruned nodes, max_depth=10\u001b[0m\n",
      "\u001b[34m[88]#011train-logloss:0.311789#011validation-logloss:0.463571\u001b[0m\n",
      "\u001b[34m[19:46:39] src/tree/updater_prune.cc:74: tree pruning end, 1 roots, 46 extra nodes, 86 pruned nodes, max_depth=10\u001b[0m\n",
      "\u001b[34m[89]#011train-logloss:0.310952#011validation-logloss:0.463333\u001b[0m\n",
      "\u001b[34m[19:46:39] src/tree/updater_prune.cc:74: tree pruning end, 1 roots, 64 extra nodes, 72 pruned nodes, max_depth=10\u001b[0m\n",
      "\u001b[34m[90]#011train-logloss:0.309915#011validation-logloss:0.463365\u001b[0m\n",
      "\u001b[34m[19:46:39] src/tree/updater_prune.cc:74: tree pruning end, 1 roots, 72 extra nodes, 142 pruned nodes, max_depth=10\u001b[0m\n",
      "\u001b[34m[91]#011train-logloss:0.308721#011validation-logloss:0.463514\u001b[0m\n",
      "\u001b[34m[19:46:39] src/tree/updater_prune.cc:74: tree pruning end, 1 roots, 60 extra nodes, 72 pruned nodes, max_depth=10\u001b[0m\n",
      "\u001b[34m[92]#011train-logloss:0.307734#011validation-logloss:0.463608\u001b[0m\n",
      "\u001b[34m[19:46:39] src/tree/updater_prune.cc:74: tree pruning end, 1 roots, 54 extra nodes, 66 pruned nodes, max_depth=10\u001b[0m\n",
      "\u001b[34m[93]#011train-logloss:0.306774#011validation-logloss:0.463403\u001b[0m\n",
      "\u001b[34m[19:46:39] src/tree/updater_prune.cc:74: tree pruning end, 1 roots, 74 extra nodes, 72 pruned nodes, max_depth=10\u001b[0m\n",
      "\u001b[34m[94]#011train-logloss:0.305325#011validation-logloss:0.462879\u001b[0m\n",
      "\u001b[34m[19:46:39] src/tree/updater_prune.cc:74: tree pruning end, 1 roots, 36 extra nodes, 62 pruned nodes, max_depth=10\u001b[0m\n",
      "\u001b[34m[95]#011train-logloss:0.304707#011validation-logloss:0.462924\u001b[0m\n",
      "\u001b[34m[19:46:39] src/tree/updater_prune.cc:74: tree pruning end, 1 roots, 50 extra nodes, 46 pruned nodes, max_depth=10\u001b[0m\n",
      "\u001b[34m[96]#011train-logloss:0.303871#011validation-logloss:0.462824\u001b[0m\n",
      "\u001b[34m[19:46:39] src/tree/updater_prune.cc:74: tree pruning end, 1 roots, 40 extra nodes, 96 pruned nodes, max_depth=9\u001b[0m\n",
      "\u001b[34m[97]#011train-logloss:0.303141#011validation-logloss:0.462791\u001b[0m\n",
      "\u001b[34m[19:46:40] src/tree/updater_prune.cc:74: tree pruning end, 1 roots, 28 extra nodes, 60 pruned nodes, max_depth=10\u001b[0m\n",
      "\u001b[34m[98]#011train-logloss:0.302666#011validation-logloss:0.462554\u001b[0m\n",
      "\u001b[34m[19:46:40] src/tree/updater_prune.cc:74: tree pruning end, 1 roots, 46 extra nodes, 58 pruned nodes, max_depth=10\u001b[0m\n",
      "\u001b[34m[99]#011train-logloss:0.301899#011validation-logloss:0.462541\u001b[0m\n",
      "\u001b[34m[19:46:40] src/tree/updater_prune.cc:74: tree pruning end, 1 roots, 48 extra nodes, 78 pruned nodes, max_depth=10\u001b[0m\n",
      "\u001b[34m[100]#011train-logloss:0.301074#011validation-logloss:0.462531\u001b[0m\n",
      "\u001b[34m[19:46:40] src/tree/updater_prune.cc:74: tree pruning end, 1 roots, 64 extra nodes, 82 pruned nodes, max_depth=10\u001b[0m\n",
      "\u001b[34m[101]#011train-logloss:0.300041#011validation-logloss:0.462403\u001b[0m\n",
      "\u001b[34m[19:46:40] src/tree/updater_prune.cc:74: tree pruning end, 1 roots, 50 extra nodes, 128 pruned nodes, max_depth=10\u001b[0m\n",
      "\u001b[34m[102]#011train-logloss:0.299131#011validation-logloss:0.462303\u001b[0m\n",
      "\u001b[34m[19:46:40] src/tree/updater_prune.cc:74: tree pruning end, 1 roots, 44 extra nodes, 64 pruned nodes, max_depth=10\u001b[0m\n",
      "\u001b[34m[103]#011train-logloss:0.29828#011validation-logloss:0.461934\u001b[0m\n",
      "\u001b[34m[19:46:40] src/tree/updater_prune.cc:74: tree pruning end, 1 roots, 60 extra nodes, 126 pruned nodes, max_depth=9\u001b[0m\n",
      "\u001b[34m[104]#011train-logloss:0.297235#011validation-logloss:0.461693\u001b[0m\n",
      "\u001b[34m[19:46:40] src/tree/updater_prune.cc:74: tree pruning end, 1 roots, 30 extra nodes, 98 pruned nodes, max_depth=8\u001b[0m\n",
      "\u001b[34m[105]#011train-logloss:0.296778#011validation-logloss:0.461581\u001b[0m\n",
      "\u001b[34m[19:46:40] src/tree/updater_prune.cc:74: tree pruning end, 1 roots, 40 extra nodes, 100 pruned nodes, max_depth=10\u001b[0m\n",
      "\u001b[34m[106]#011train-logloss:0.296172#011validation-logloss:0.461501\u001b[0m\n",
      "\u001b[34m[19:46:40] src/tree/updater_prune.cc:74: tree pruning end, 1 roots, 70 extra nodes, 84 pruned nodes, max_depth=10\u001b[0m\n",
      "\u001b[34m[107]#011train-logloss:0.295007#011validation-logloss:0.461318\u001b[0m\n",
      "\u001b[34m[19:46:40] src/tree/updater_prune.cc:74: tree pruning end, 1 roots, 48 extra nodes, 116 pruned nodes, max_depth=9\u001b[0m\n",
      "\u001b[34m[108]#011train-logloss:0.294287#011validation-logloss:0.461418\u001b[0m\n",
      "\u001b[34m[19:46:40] src/tree/updater_prune.cc:74: tree pruning end, 1 roots, 38 extra nodes, 110 pruned nodes, max_depth=9\u001b[0m\n",
      "\u001b[34m[109]#011train-logloss:0.293716#011validation-logloss:0.461398\u001b[0m\n",
      "\u001b[34m[19:46:40] src/tree/updater_prune.cc:74: tree pruning end, 1 roots, 44 extra nodes, 68 pruned nodes, max_depth=10\u001b[0m\n",
      "\u001b[34m[110]#011train-logloss:0.293001#011validation-logloss:0.461467\u001b[0m\n",
      "\u001b[34m[19:46:40] src/tree/updater_prune.cc:74: tree pruning end, 1 roots, 44 extra nodes, 100 pruned nodes, max_depth=10\u001b[0m\n",
      "\u001b[34m[111]#011train-logloss:0.292342#011validation-logloss:0.461338\u001b[0m\n",
      "\u001b[34m[19:46:40] src/tree/updater_prune.cc:74: tree pruning end, 1 roots, 22 extra nodes, 76 pruned nodes, max_depth=9\u001b[0m\n",
      "\u001b[34m[112]#011train-logloss:0.291989#011validation-logloss:0.461235\u001b[0m\n",
      "\u001b[34m[19:46:40] src/tree/updater_prune.cc:74: tree pruning end, 1 roots, 40 extra nodes, 72 pruned nodes, max_depth=10\u001b[0m\n",
      "\u001b[34m[113]#011train-logloss:0.291402#011validation-logloss:0.461153\u001b[0m\n",
      "\u001b[34m[19:46:40] src/tree/updater_prune.cc:74: tree pruning end, 1 roots, 44 extra nodes, 130 pruned nodes, max_depth=10\u001b[0m\n",
      "\u001b[34m[114]#011train-logloss:0.290657#011validation-logloss:0.46111\u001b[0m\n",
      "\u001b[34m[19:46:40] src/tree/updater_prune.cc:74: tree pruning end, 1 roots, 66 extra nodes, 96 pruned nodes, max_depth=10\u001b[0m\n",
      "\u001b[34m[115]#011train-logloss:0.289587#011validation-logloss:0.461031\u001b[0m\n",
      "\u001b[34m[19:46:41] src/tree/updater_prune.cc:74: tree pruning end, 1 roots, 66 extra nodes, 76 pruned nodes, max_depth=10\u001b[0m\n",
      "\u001b[34m[116]#011train-logloss:0.288588#011validation-logloss:0.460962\u001b[0m\n",
      "\u001b[34m[19:46:41] src/tree/updater_prune.cc:74: tree pruning end, 1 roots, 50 extra nodes, 106 pruned nodes, max_depth=9\u001b[0m\n",
      "\u001b[34m[117]#011train-logloss:0.287725#011validation-logloss:0.460744\u001b[0m\n",
      "\u001b[34m[19:46:41] src/tree/updater_prune.cc:74: tree pruning end, 1 roots, 34 extra nodes, 100 pruned nodes, max_depth=10\u001b[0m\n",
      "\u001b[34m[118]#011train-logloss:0.287186#011validation-logloss:0.460588\u001b[0m\n",
      "\u001b[34m[19:46:41] src/tree/updater_prune.cc:74: tree pruning end, 1 roots, 66 extra nodes, 98 pruned nodes, max_depth=10\u001b[0m\n",
      "\u001b[34m[119]#011train-logloss:0.286167#011validation-logloss:0.460486\u001b[0m\n",
      "\u001b[34m[19:46:41] src/tree/updater_prune.cc:74: tree pruning end, 1 roots, 30 extra nodes, 76 pruned nodes, max_depth=10\u001b[0m\n",
      "\u001b[34m[120]#011train-logloss:0.285722#011validation-logloss:0.460457\u001b[0m\n",
      "\u001b[34m[19:46:41] src/tree/updater_prune.cc:74: tree pruning end, 1 roots, 32 extra nodes, 84 pruned nodes, max_depth=10\u001b[0m\n",
      "\u001b[34m[121]#011train-logloss:0.285248#011validation-logloss:0.460314\u001b[0m\n",
      "\u001b[34m[19:46:41] src/tree/updater_prune.cc:74: tree pruning end, 1 roots, 58 extra nodes, 126 pruned nodes, max_depth=8\u001b[0m\n",
      "\u001b[34m[122]#011train-logloss:0.284084#011validation-logloss:0.459487\u001b[0m\n",
      "\u001b[34m[19:46:41] src/tree/updater_prune.cc:74: tree pruning end, 1 roots, 66 extra nodes, 86 pruned nodes, max_depth=10\u001b[0m\n",
      "\u001b[34m[123]#011train-logloss:0.282852#011validation-logloss:0.45904\u001b[0m\n",
      "\u001b[34m[19:46:41] src/tree/updater_prune.cc:74: tree pruning end, 1 roots, 48 extra nodes, 108 pruned nodes, max_depth=9\u001b[0m\n",
      "\u001b[34m[124]#011train-logloss:0.281983#011validation-logloss:0.458642\u001b[0m\n",
      "\u001b[34m[19:46:41] src/tree/updater_prune.cc:74: tree pruning end, 1 roots, 44 extra nodes, 92 pruned nodes, max_depth=10\u001b[0m\n",
      "\u001b[34m[125]#011train-logloss:0.281389#011validation-logloss:0.45829\u001b[0m\n",
      "\u001b[34m[19:46:41] src/tree/updater_prune.cc:74: tree pruning end, 1 roots, 50 extra nodes, 106 pruned nodes, max_depth=9\u001b[0m\n",
      "\u001b[34m[126]#011train-logloss:0.280603#011validation-logloss:0.458197\u001b[0m\n",
      "\u001b[34m[19:46:41] src/tree/updater_prune.cc:74: tree pruning end, 1 roots, 52 extra nodes, 110 pruned nodes, max_depth=10\u001b[0m\n",
      "\u001b[34m[127]#011train-logloss:0.279867#011validation-logloss:0.457954\u001b[0m\n",
      "\u001b[34m[19:46:41] src/tree/updater_prune.cc:74: tree pruning end, 1 roots, 26 extra nodes, 130 pruned nodes, max_depth=8\u001b[0m\n",
      "\u001b[34m[128]#011train-logloss:0.279516#011validation-logloss:0.457777\u001b[0m\n",
      "\u001b[34m[19:46:41] src/tree/updater_prune.cc:74: tree pruning end, 1 roots, 28 extra nodes, 80 pruned nodes, max_depth=9\u001b[0m\n",
      "\u001b[34m[129]#011train-logloss:0.279113#011validation-logloss:0.457737\u001b[0m\n",
      "\u001b[34m[19:46:41] src/tree/updater_prune.cc:74: tree pruning end, 1 roots, 26 extra nodes, 24 pruned nodes, max_depth=10\u001b[0m\n",
      "\u001b[34m[130]#011train-logloss:0.278731#011validation-logloss:0.457607\u001b[0m\n",
      "\u001b[34m[19:46:41] src/tree/updater_prune.cc:74: tree pruning end, 1 roots, 36 extra nodes, 64 pruned nodes, max_depth=10\u001b[0m\n",
      "\u001b[34m[131]#011train-logloss:0.278155#011validation-logloss:0.457457\u001b[0m\n",
      "\u001b[34m[19:46:41] src/tree/updater_prune.cc:74: tree pruning end, 1 roots, 42 extra nodes, 112 pruned nodes, max_depth=10\u001b[0m\n",
      "\u001b[34m[132]#011train-logloss:0.277546#011validation-logloss:0.457562\u001b[0m\n",
      "\u001b[34m[19:46:41] src/tree/updater_prune.cc:74: tree pruning end, 1 roots, 50 extra nodes, 70 pruned nodes, max_depth=10\u001b[0m\n",
      "\u001b[34m[133]#011train-logloss:0.276821#011validation-logloss:0.457476\u001b[0m\n",
      "\u001b[34m[19:46:42] src/tree/updater_prune.cc:74: tree pruning end, 1 roots, 20 extra nodes, 82 pruned nodes, max_depth=10\u001b[0m\n",
      "\u001b[34m[134]#011train-logloss:0.276603#011validation-logloss:0.457429\u001b[0m\n",
      "\u001b[34m[19:46:42] src/tree/updater_prune.cc:74: tree pruning end, 1 roots, 28 extra nodes, 62 pruned nodes, max_depth=10\u001b[0m\n",
      "\u001b[34m[135]#011train-logloss:0.276233#011validation-logloss:0.45723\u001b[0m\n",
      "\u001b[34m[19:46:42] src/tree/updater_prune.cc:74: tree pruning end, 1 roots, 26 extra nodes, 50 pruned nodes, max_depth=10\u001b[0m\n",
      "\u001b[34m[136]#011train-logloss:0.275897#011validation-logloss:0.457229\u001b[0m\n",
      "\u001b[34m[19:46:42] src/tree/updater_prune.cc:74: tree pruning end, 1 roots, 52 extra nodes, 52 pruned nodes, max_depth=10\u001b[0m\n",
      "\u001b[34m[137]#011train-logloss:0.275124#011validation-logloss:0.45723\u001b[0m\n",
      "\u001b[34m[19:46:42] src/tree/updater_prune.cc:74: tree pruning end, 1 roots, 22 extra nodes, 64 pruned nodes, max_depth=9\u001b[0m\n",
      "\u001b[34m[138]#011train-logloss:0.274847#011validation-logloss:0.457181\u001b[0m\n",
      "\u001b[34m[19:46:42] src/tree/updater_prune.cc:74: tree pruning end, 1 roots, 34 extra nodes, 126 pruned nodes, max_depth=10\u001b[0m\n",
      "\u001b[34m[139]#011train-logloss:0.274336#011validation-logloss:0.457257\u001b[0m\n",
      "\u001b[34m[19:46:42] src/tree/updater_prune.cc:74: tree pruning end, 1 roots, 28 extra nodes, 136 pruned nodes, max_depth=10\u001b[0m\n",
      "\u001b[34m[140]#011train-logloss:0.273896#011validation-logloss:0.457084\u001b[0m\n",
      "\u001b[34m[19:46:42] src/tree/updater_prune.cc:74: tree pruning end, 1 roots, 36 extra nodes, 70 pruned nodes, max_depth=9\u001b[0m\n",
      "\u001b[34m[141]#011train-logloss:0.273448#011validation-logloss:0.456907\u001b[0m\n",
      "\u001b[34m[19:46:42] src/tree/updater_prune.cc:74: tree pruning end, 1 roots, 36 extra nodes, 92 pruned nodes, max_depth=10\u001b[0m\n",
      "\u001b[34m[142]#011train-logloss:0.272867#011validation-logloss:0.456785\u001b[0m\n",
      "\u001b[34m[19:46:42] src/tree/updater_prune.cc:74: tree pruning end, 1 roots, 28 extra nodes, 102 pruned nodes, max_depth=9\u001b[0m\n",
      "\u001b[34m[143]#011train-logloss:0.27246#011validation-logloss:0.456686\u001b[0m\n",
      "\u001b[34m[19:46:42] src/tree/updater_prune.cc:74: tree pruning end, 1 roots, 28 extra nodes, 50 pruned nodes, max_depth=10\u001b[0m\n",
      "\u001b[34m[144]#011train-logloss:0.272089#011validation-logloss:0.456697\u001b[0m\n",
      "\u001b[34m[19:46:42] src/tree/updater_prune.cc:74: tree pruning end, 1 roots, 52 extra nodes, 108 pruned nodes, max_depth=10\u001b[0m\n",
      "\u001b[34m[145]#011train-logloss:0.271354#011validation-logloss:0.456541\u001b[0m\n",
      "\u001b[34m[19:46:42] src/tree/updater_prune.cc:74: tree pruning end, 1 roots, 24 extra nodes, 126 pruned nodes, max_depth=9\u001b[0m\n",
      "\u001b[34m[146]#011train-logloss:0.271006#011validation-logloss:0.456384\u001b[0m\n",
      "\u001b[34m[19:46:42] src/tree/updater_prune.cc:74: tree pruning end, 1 roots, 26 extra nodes, 56 pruned nodes, max_depth=8\u001b[0m\n",
      "\u001b[34m[147]#011train-logloss:0.270668#011validation-logloss:0.456408\u001b[0m\n",
      "\u001b[34m[19:46:42] src/tree/updater_prune.cc:74: tree pruning end, 1 roots, 26 extra nodes, 58 pruned nodes, max_depth=10\u001b[0m\n",
      "\u001b[34m[148]#011train-logloss:0.270308#011validation-logloss:0.456494\u001b[0m\n",
      "\u001b[34m[19:46:42] src/tree/updater_prune.cc:74: tree pruning end, 1 roots, 28 extra nodes, 42 pruned nodes, max_depth=10\u001b[0m\n",
      "\u001b[34m[149]#011train-logloss:0.269885#011validation-logloss:0.456497\u001b[0m\n",
      "\u001b[34m[19:46:42] src/tree/updater_prune.cc:74: tree pruning end, 1 roots, 38 extra nodes, 80 pruned nodes, max_depth=10\u001b[0m\n",
      "\u001b[34m[150]#011train-logloss:0.269369#011validation-logloss:0.456575\u001b[0m\n",
      "\u001b[34m[19:46:42] src/tree/updater_prune.cc:74: tree pruning end, 1 roots, 34 extra nodes, 86 pruned nodes, max_depth=10\u001b[0m\n",
      "\u001b[34m[151]#011train-logloss:0.268908#011validation-logloss:0.456548\u001b[0m\n",
      "\u001b[34m[19:46:43] src/tree/updater_prune.cc:74: tree pruning end, 1 roots, 18 extra nodes, 60 pruned nodes, max_depth=9\u001b[0m\n",
      "\u001b[34m[152]#011train-logloss:0.268667#011validation-logloss:0.456622\u001b[0m\n",
      "\u001b[34m[19:46:43] src/tree/updater_prune.cc:74: tree pruning end, 1 roots, 56 extra nodes, 88 pruned nodes, max_depth=10\u001b[0m\n",
      "\u001b[34m[153]#011train-logloss:0.267778#011validation-logloss:0.456531\u001b[0m\n",
      "\u001b[34m[19:46:43] src/tree/updater_prune.cc:74: tree pruning end, 1 roots, 46 extra nodes, 68 pruned nodes, max_depth=10\u001b[0m\n",
      "\u001b[34m[154]#011train-logloss:0.267121#011validation-logloss:0.456502\u001b[0m\n",
      "\u001b[34m[19:46:43] src/tree/updater_prune.cc:74: tree pruning end, 1 roots, 22 extra nodes, 44 pruned nodes, max_depth=10\u001b[0m\n",
      "\u001b[34m[155]#011train-logloss:0.266875#011validation-logloss:0.456488\u001b[0m\n",
      "\u001b[34m[19:46:43] src/tree/updater_prune.cc:74: tree pruning end, 1 roots, 0 extra nodes, 50 pruned nodes, max_depth=0\u001b[0m\n",
      "\u001b[34m[156]#011train-logloss:0.266875#011validation-logloss:0.456492\u001b[0m\n",
      "\u001b[34mStopping. Best iteration:\u001b[0m\n",
      "\u001b[34m[146]#011train-logloss:0.271006#011validation-logloss:0.456384\n",
      "\u001b[0m\n",
      "Training seconds: 78\n",
      "Billable seconds: 78\n"
     ]
    }
   ],
   "source": [
    "xgb_attached = sagemaker.estimator.Estimator.attach(xgb_hyperparameter_tuner.best_training_job())"
   ]
  },
  {
   "cell_type": "markdown",
   "metadata": {},
   "source": [
    "## Step 5: Test the model\n",
    "\n",
    "Now that we have our best performing model, we can test it. To do this we will use the batch transform functionality. To start with, we need to build a transformer object from our fit model."
   ]
  },
  {
   "cell_type": "code",
   "execution_count": 23,
   "metadata": {},
   "outputs": [
    {
     "name": "stderr",
     "output_type": "stream",
     "text": [
      "Parameter image will be renamed to image_uri in SageMaker Python SDK v2.\n"
     ]
    }
   ],
   "source": [
    "xgb_transformer = xgb_attached.transformer(instance_count = 1, instance_type = 'ml.m4.xlarge')"
   ]
  },
  {
   "cell_type": "markdown",
   "metadata": {},
   "source": [
    "Next we ask SageMaker to begin a batch transform job using our trained model and applying it to the test data we previous stored in S3. We need to make sure to provide SageMaker with the type of data that we are providing to our model, in our case `text/csv`, so that it knows how to serialize our data. In addition, we need to make sure to let SageMaker know how to split our data up into chunks if the entire data set happens to be too large to send to our model all at once.\n",
    "\n",
    "Note that when we ask SageMaker to do this it will execute the batch transform job in the background. Since we need to wait for the results of this job before we can continue, we use the `wait()` method. An added benefit of this is that we get some output from our batch transform job which lets us know if anything went wrong."
   ]
  },
  {
   "cell_type": "code",
   "execution_count": 24,
   "metadata": {},
   "outputs": [],
   "source": [
    "xgb_transformer.transform(test_location, content_type='text/csv', split_type='Line')"
   ]
  },
  {
   "cell_type": "code",
   "execution_count": 25,
   "metadata": {},
   "outputs": [
    {
     "name": "stdout",
     "output_type": "stream",
     "text": [
      "................................\u001b[34mArguments: serve\u001b[0m\n",
      "\u001b[35mArguments: serve\u001b[0m\n",
      "\u001b[34m[2021-04-15 20:11:09 +0000] [1] [INFO] Starting gunicorn 19.9.0\u001b[0m\n",
      "\u001b[34m[2021-04-15 20:11:09 +0000] [1] [INFO] Listening at: http://0.0.0.0:8080 (1)\u001b[0m\n",
      "\u001b[34m[2021-04-15 20:11:09 +0000] [1] [INFO] Using worker: gevent\u001b[0m\n",
      "\u001b[34m[2021-04-15 20:11:09 +0000] [20] [INFO] Booting worker with pid: 20\u001b[0m\n",
      "\u001b[34m[2021-04-15 20:11:09 +0000] [21] [INFO] Booting worker with pid: 21\u001b[0m\n",
      "\u001b[34m[2021-04-15 20:11:09 +0000] [22] [INFO] Booting worker with pid: 22\u001b[0m\n",
      "\u001b[34m[2021-04-15 20:11:09 +0000] [23] [INFO] Booting worker with pid: 23\u001b[0m\n",
      "\u001b[34m/opt/amazon/lib/python3.7/site-packages/gunicorn/workers/ggevent.py:65: MonkeyPatchWarning: Monkey-patching ssl after ssl has already been imported may lead to errors, including RecursionError on Python 3.6. It may also silently lead to incorrect behaviour on Python 3.7. Please monkey-patch earlier. See https://github.com/gevent/gevent/issues/1016. Modules that had direct imports (NOT patched): ['urllib3.util.ssl_ (/opt/amazon/lib/python3.7/site-packages/urllib3/util/ssl_.py)', 'urllib3.util (/opt/amazon/lib/python3.7/site-packages/urllib3/util/__init__.py)']. \n",
      "  monkey.patch_all(subprocess=True)\u001b[0m\n",
      "\u001b[35m[2021-04-15 20:11:09 +0000] [1] [INFO] Starting gunicorn 19.9.0\u001b[0m\n",
      "\u001b[35m[2021-04-15 20:11:09 +0000] [1] [INFO] Listening at: http://0.0.0.0:8080 (1)\u001b[0m\n",
      "\u001b[35m[2021-04-15 20:11:09 +0000] [1] [INFO] Using worker: gevent\u001b[0m\n",
      "\u001b[35m[2021-04-15 20:11:09 +0000] [20] [INFO] Booting worker with pid: 20\u001b[0m\n",
      "\u001b[35m[2021-04-15 20:11:09 +0000] [21] [INFO] Booting worker with pid: 21\u001b[0m\n",
      "\u001b[35m[2021-04-15 20:11:09 +0000] [22] [INFO] Booting worker with pid: 22\u001b[0m\n",
      "\u001b[35m[2021-04-15 20:11:09 +0000] [23] [INFO] Booting worker with pid: 23\u001b[0m\n",
      "\u001b[35m/opt/amazon/lib/python3.7/site-packages/gunicorn/workers/ggevent.py:65: MonkeyPatchWarning: Monkey-patching ssl after ssl has already been imported may lead to errors, including RecursionError on Python 3.6. It may also silently lead to incorrect behaviour on Python 3.7. Please monkey-patch earlier. See https://github.com/gevent/gevent/issues/1016. Modules that had direct imports (NOT patched): ['urllib3.util.ssl_ (/opt/amazon/lib/python3.7/site-packages/urllib3/util/ssl_.py)', 'urllib3.util (/opt/amazon/lib/python3.7/site-packages/urllib3/util/__init__.py)']. \n",
      "  monkey.patch_all(subprocess=True)\u001b[0m\n",
      "\u001b[34m/opt/amazon/lib/python3.7/site-packages/gunicorn/workers/ggevent.py:65: MonkeyPatchWarning: Monkey-patching ssl after ssl has already been imported may lead to errors, including RecursionError on Python 3.6. It may also silently lead to incorrect behaviour on Python 3.7. Please monkey-patch earlier. See https://github.com/gevent/gevent/issues/1016. Modules that had direct imports (NOT patched): ['urllib3.util.ssl_ (/opt/amazon/lib/python3.7/site-packages/urllib3/util/ssl_.py)', 'urllib3.util (/opt/amazon/lib/python3.7/site-packages/urllib3/util/__init__.py)']. \n",
      "  monkey.patch_all(subprocess=True)\u001b[0m\n",
      "\u001b[34m/opt/amazon/lib/python3.7/site-packages/gunicorn/workers/ggevent.py:65: MonkeyPatchWarning: Monkey-patching ssl after ssl has already been imported may lead to errors, including RecursionError on Python 3.6. It may also silently lead to incorrect behaviour on Python 3.7. Please monkey-patch earlier. See https://github.com/gevent/gevent/issues/1016. Modules that had direct imports (NOT patched): ['urllib3.util.ssl_ (/opt/amazon/lib/python3.7/site-packages/urllib3/util/ssl_.py)', 'urllib3.util (/opt/amazon/lib/python3.7/site-packages/urllib3/util/__init__.py)']. \n",
      "  monkey.patch_all(subprocess=True)\u001b[0m\n",
      "\u001b[34m[2021-04-15:20:11:09:INFO] Model loaded successfully for worker : 20\u001b[0m\n",
      "\u001b[34m[2021-04-15:20:11:09:INFO] Model loaded successfully for worker : 22\u001b[0m\n",
      "\u001b[34m[2021-04-15:20:11:09:INFO] Model loaded successfully for worker : 21\u001b[0m\n",
      "\u001b[34m/opt/amazon/lib/python3.7/site-packages/gunicorn/workers/ggevent.py:65: MonkeyPatchWarning: Monkey-patching ssl after ssl has already been imported may lead to errors, including RecursionError on Python 3.6. It may also silently lead to incorrect behaviour on Python 3.7. Please monkey-patch earlier. See https://github.com/gevent/gevent/issues/1016. Modules that had direct imports (NOT patched): ['urllib3.util.ssl_ (/opt/amazon/lib/python3.7/site-packages/urllib3/util/ssl_.py)', 'urllib3.util (/opt/amazon/lib/python3.7/site-packages/urllib3/util/__init__.py)']. \n",
      "  monkey.patch_all(subprocess=True)\u001b[0m\n",
      "\u001b[34m[2021-04-15:20:11:09:INFO] Model loaded successfully for worker : 23\u001b[0m\n",
      "\u001b[35m/opt/amazon/lib/python3.7/site-packages/gunicorn/workers/ggevent.py:65: MonkeyPatchWarning: Monkey-patching ssl after ssl has already been imported may lead to errors, including RecursionError on Python 3.6. It may also silently lead to incorrect behaviour on Python 3.7. Please monkey-patch earlier. See https://github.com/gevent/gevent/issues/1016. Modules that had direct imports (NOT patched): ['urllib3.util.ssl_ (/opt/amazon/lib/python3.7/site-packages/urllib3/util/ssl_.py)', 'urllib3.util (/opt/amazon/lib/python3.7/site-packages/urllib3/util/__init__.py)']. \n",
      "  monkey.patch_all(subprocess=True)\u001b[0m\n",
      "\u001b[35m/opt/amazon/lib/python3.7/site-packages/gunicorn/workers/ggevent.py:65: MonkeyPatchWarning: Monkey-patching ssl after ssl has already been imported may lead to errors, including RecursionError on Python 3.6. It may also silently lead to incorrect behaviour on Python 3.7. Please monkey-patch earlier. See https://github.com/gevent/gevent/issues/1016. Modules that had direct imports (NOT patched): ['urllib3.util.ssl_ (/opt/amazon/lib/python3.7/site-packages/urllib3/util/ssl_.py)', 'urllib3.util (/opt/amazon/lib/python3.7/site-packages/urllib3/util/__init__.py)']. \n",
      "  monkey.patch_all(subprocess=True)\u001b[0m\n",
      "\u001b[35m[2021-04-15:20:11:09:INFO] Model loaded successfully for worker : 20\u001b[0m\n",
      "\u001b[35m[2021-04-15:20:11:09:INFO] Model loaded successfully for worker : 22\u001b[0m\n",
      "\u001b[35m[2021-04-15:20:11:09:INFO] Model loaded successfully for worker : 21\u001b[0m\n",
      "\u001b[35m/opt/amazon/lib/python3.7/site-packages/gunicorn/workers/ggevent.py:65: MonkeyPatchWarning: Monkey-patching ssl after ssl has already been imported may lead to errors, including RecursionError on Python 3.6. It may also silently lead to incorrect behaviour on Python 3.7. Please monkey-patch earlier. See https://github.com/gevent/gevent/issues/1016. Modules that had direct imports (NOT patched): ['urllib3.util.ssl_ (/opt/amazon/lib/python3.7/site-packages/urllib3/util/ssl_.py)', 'urllib3.util (/opt/amazon/lib/python3.7/site-packages/urllib3/util/__init__.py)']. \n",
      "  monkey.patch_all(subprocess=True)\u001b[0m\n",
      "\u001b[35m[2021-04-15:20:11:09:INFO] Model loaded successfully for worker : 23\u001b[0m\n",
      "\u001b[32m2021-04-15T20:11:13.796:[sagemaker logs]: MaxConcurrentTransforms=4, MaxPayloadInMB=6, BatchStrategy=MULTI_RECORD\u001b[0m\n",
      "\u001b[34m[2021-04-15:20:11:14:INFO] Sniff delimiter as ','\u001b[0m\n",
      "\u001b[34m[2021-04-15:20:11:14:INFO] Determined delimiter of CSV input is ','\u001b[0m\n",
      "\u001b[35m[2021-04-15:20:11:14:INFO] Sniff delimiter as ','\u001b[0m\n",
      "\u001b[35m[2021-04-15:20:11:14:INFO] Determined delimiter of CSV input is ','\u001b[0m\n",
      "\u001b[34m[2021-04-15:20:11:14:INFO] Sniff delimiter as ','\u001b[0m\n",
      "\u001b[34m[2021-04-15:20:11:14:INFO] Determined delimiter of CSV input is ','\u001b[0m\n",
      "\u001b[35m[2021-04-15:20:11:14:INFO] Sniff delimiter as ','\u001b[0m\n",
      "\u001b[35m[2021-04-15:20:11:14:INFO] Determined delimiter of CSV input is ','\u001b[0m\n",
      "\n"
     ]
    }
   ],
   "source": [
    "xgb_transformer.wait()"
   ]
  },
  {
   "cell_type": "markdown",
   "metadata": {},
   "source": [
    "Now that the batch transform job has finished, the resulting output is stored on S3. Since we wish to analyze the output inside of our notebook we can use a bit of notebook magic to copy the output file from its S3 location and save it locally."
   ]
  },
  {
   "cell_type": "code",
   "execution_count": 38,
   "metadata": {},
   "outputs": [
    {
     "name": "stdout",
     "output_type": "stream",
     "text": [
      "Completed 256.0 KiB/288.2 KiB (2.8 MiB/s) with 1 file(s) remaining\r",
      "Completed 288.2 KiB/288.2 KiB (3.1 MiB/s) with 1 file(s) remaining\r",
      "download: s3://sagemaker-us-east-1-475165763880/xgboost-210414-2336-049-743697b2-2021-04-15-00-48-56-353/test.csv.out to data/directSaleClean/xgb_hpt/test.csv.out\r\n"
     ]
    }
   ],
   "source": [
    "#!aws s3 cp --recursive $xgb_transformer.output_path $data_dir"
   ]
  },
  {
   "cell_type": "code",
   "execution_count": 26,
   "metadata": {},
   "outputs": [
    {
     "name": "stdout",
     "output_type": "stream",
     "text": [
      "Completed 112.1 KiB/112.1 KiB (933.1 KiB/s) with 1 file(s) remaining\r",
      "download: s3://sagemaker-us-east-1-475165763880/xgboost-210415-1928-023-56a326f7-2021-04-15-20-06-00-366/test.csv.out to data/directSaleClean/xgb_hpt/test.csv.out\r\n"
     ]
    }
   ],
   "source": [
    "!aws s3 cp --recursive $xgb_transformer.output_path $data_dir"
   ]
  },
  {
   "cell_type": "markdown",
   "metadata": {},
   "source": [
    "To see how well our model works we can create a simple scatter plot between the predicted and actual values. If the model was completely accurate the resulting scatter plot would look like the line $x=y$. As we can see, our model seems to have done okay but there is room for improvement."
   ]
  },
  {
   "cell_type": "code",
   "execution_count": 27,
   "metadata": {},
   "outputs": [],
   "source": [
    "Y_pred = pd.read_csv(os.path.join(data_dir, 'test.csv.out'), header=None)"
   ]
  },
  {
   "cell_type": "code",
   "execution_count": 28,
   "metadata": {},
   "outputs": [
    {
     "data": {
      "text/plain": [
       "Text(0.5, 1.0, 'Median Price vs Predicted Price')"
      ]
     },
     "execution_count": 28,
     "metadata": {},
     "output_type": "execute_result"
    },
    {
     "data": {
      "image/png": "[encoded data removed]",
      "text/plain": [
       "<Figure size 432x288 with 1 Axes>"
      ]
     },
     "metadata": {
      "needs_background": "light"
     },
     "output_type": "display_data"
    }
   ],
   "source": [
    "plt.scatter(Y_test, Y_pred)\n",
    "plt.xlabel(\"Median Price\")\n",
    "plt.ylabel(\"Predicted Price\")\n",
    "plt.title(\"Median Price vs Predicted Price\")"
   ]
  },
  {
   "cell_type": "code",
   "execution_count": 29,
   "metadata": {},
   "outputs": [],
   "source": [
    "# to evaluate the model\n",
    "from sklearn.metrics import mean_squared_error, r2_score\n",
    "from math import sqrt"
   ]
  },
  {
   "cell_type": "code",
   "execution_count": 30,
   "metadata": {},
   "outputs": [
    {
     "name": "stdout",
     "output_type": "stream",
     "text": [
      "test mse: 0.14739364951234984\n",
      "test rmse: 0.38391880588524163\n",
      "test r2: 0.21851255995187702\n",
      "\n",
      "Average maxmora:  0    0.177719\n",
      "dtype: float64\n"
     ]
    }
   ],
   "source": [
    "# make predictions for test set\n",
    "\n",
    "# determine mse and rmse\n",
    "print('test mse: {}'.format((\n",
    "    mean_squared_error((Y_test), (Y_pred)))))\n",
    "print('test rmse: {}'.format((\n",
    "    sqrt(mean_squared_error((Y_test), (Y_pred))))))\n",
    "print('test r2: {}'.format(\n",
    "    r2_score((Y_test), (Y_pred))))\n",
    "print()\n",
    "\n",
    "print('Average maxmora: ', ((Y_pred).median()))"
   ]
  },
  {
   "cell_type": "code",
   "execution_count": 31,
   "metadata": {},
   "outputs": [],
   "source": [
    "from sklearn.metrics import plot_confusion_matrix, confusion_matrix"
   ]
  },
  {
   "cell_type": "code",
   "execution_count": 34,
   "metadata": {},
   "outputs": [],
   "source": [
    "cmatrix = confusion_matrix(Y_test, (round(Y_pred[0]).astype(int)))"
   ]
  },
  {
   "cell_type": "code",
   "execution_count": 35,
   "metadata": {},
   "outputs": [
    {
     "data": {
      "text/plain": [
       "array([[4138,  235],\n",
       "       [ 980,  495]])"
      ]
     },
     "execution_count": 35,
     "metadata": {},
     "output_type": "execute_result"
    }
   ],
   "source": [
    "cmatrix"
   ]
  },
  {
   "cell_type": "code",
   "execution_count": 39,
   "metadata": {},
   "outputs": [
    {
     "data": {
      "text/plain": [
       "array([[0.70759234, 0.04018468],\n",
       "       [0.16757866, 0.08464432]])"
      ]
     },
     "execution_count": 39,
     "metadata": {},
     "output_type": "execute_result"
    }
   ],
   "source": [
    "cmatrix/cmatrix.sum()"
   ]
  },
  {
   "cell_type": "code",
   "execution_count": 79,
   "metadata": {},
   "outputs": [
    {
     "name": "stdout",
     "output_type": "stream",
     "text": [
      "TPR: 0.33559322033898303\n",
      "TNR: 0.9462611479533501\n",
      "recall: 0.33559322033898303\n",
      "precision: 0.678082191780822\n",
      "accuracy: 0.7922366621067032\n",
      "F1: 0.44897959183673464\n"
     ]
    }
   ],
   "source": [
    "tnr = cmatrix[0,0]/cmatrix[0].sum()\n",
    "tpr = cmatrix[1,1]/cmatrix[1].sum()\n",
    "recall = tpr\n",
    "precision = cmatrix[1,1]/cmatrix[:,1].sum()\n",
    "accuracy = np.diag(cmatrix).sum()/cmatrix.sum()\n",
    "F1 = 2 * (precision * recall) / (precision + recall)\n",
    "print(f'TPR: {tpr}')\n",
    "print(f'TNR: {tnr}')\n",
    "print(f'recall: {recall}')\n",
    "print(f'precision: {precision}')\n",
    "print(f'accuracy: {accuracy}')\n",
    "print(f'F1: {F1}')"
   ]
  },
  {
   "cell_type": "markdown",
   "metadata": {},
   "source": [
    "## Optional: Clean up\n",
    "\n",
    "The default notebook instance on SageMaker doesn't have a lot of excess disk space available. As you continue to complete and execute notebooks you will eventually fill up this disk space, leading to errors which can be difficult to diagnose. Once you are completely finished using a notebook it is a good idea to remove the files that you created along the way. Of course, you can do this from the terminal or from the notebook hub if you would like. The cell below contains some commands to clean up the created files from within the notebook."
   ]
  },
  {
   "cell_type": "code",
   "execution_count": null,
   "metadata": {},
   "outputs": [],
   "source": [
    "# First we will remove all of the files contained in the data_dir directory\n",
    "!rm $data_dir/*\n",
    "\n",
    "# And then we delete the directory itself\n",
    "!rmdir $data_dir"
   ]
  },
  {
   "cell_type": "code",
   "execution_count": null,
   "metadata": {},
   "outputs": [],
   "source": []
  }
 ],
 "metadata": {
  "kernelspec": {
   "display_name": "conda_pytorch_p36",
   "language": "python",
   "name": "conda_pytorch_p36"
  },
  "language_info": {
   "codemirror_mode": {
    "name": "ipython",
    "version": 3
   },
   "file_extension": ".py",
   "mimetype": "text/x-python",
   "name": "python",
   "nbconvert_exporter": "python",
   "pygments_lexer": "ipython3",
   "version": "3.6.13"
  }
 },
 "nbformat": 4,
 "nbformat_minor": 2
}
